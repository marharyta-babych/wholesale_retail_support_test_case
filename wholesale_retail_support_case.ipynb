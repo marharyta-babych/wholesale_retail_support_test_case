{
 "cells": [
  {
   "cell_type": "code",
   "execution_count": 1,
   "id": "b20a7258-65e5-4efc-a641-ae84b1bf5d07",
   "metadata": {},
   "outputs": [],
   "source": [
    "import datetime as dt\n",
    "\n",
    "import pandas as pd\n",
    "import numpy as np\n",
    "\n",
    "import matplotlib.pyplot as plt\n",
    "import seaborn as sns"
   ]
  },
  {
   "cell_type": "code",
   "execution_count": 2,
   "id": "8cce22a9-e151-4b8a-a198-bfd6f44fb596",
   "metadata": {},
   "outputs": [],
   "source": [
    "import warnings\n",
    "warnings.filterwarnings(\"ignore\")"
   ]
  },
  {
   "cell_type": "code",
   "execution_count": 3,
   "id": "ff10084d-341e-4de3-828e-048cdc72ecaf",
   "metadata": {},
   "outputs": [],
   "source": [
    "days_order = ['Monday', 'Tuesday', 'Wednesday', 'Thursday', 'Friday', 'Saturday', 'Sunday']"
   ]
  },
  {
   "cell_type": "markdown",
   "id": "db588f80-e11c-4d24-a004-aba3f27a496e",
   "metadata": {},
   "source": [
    "## Import & transform dataset"
   ]
  },
  {
   "cell_type": "code",
   "execution_count": 4,
   "id": "02605902-e4a0-49d1-bf1d-1e208c890b02",
   "metadata": {},
   "outputs": [],
   "source": [
    "df = pd.read_csv(\"data.csv\")"
   ]
  },
  {
   "cell_type": "code",
   "execution_count": 5,
   "id": "cdb44e64-dbc6-4022-aa80-d4b294bfbe86",
   "metadata": {},
   "outputs": [
    {
     "data": {
      "text/html": [
       "<div>\n",
       "<style scoped>\n",
       "    .dataframe tbody tr th:only-of-type {\n",
       "        vertical-align: middle;\n",
       "    }\n",
       "\n",
       "    .dataframe tbody tr th {\n",
       "        vertical-align: top;\n",
       "    }\n",
       "\n",
       "    .dataframe thead th {\n",
       "        text-align: right;\n",
       "    }\n",
       "</style>\n",
       "<table border=\"1\" class=\"dataframe\">\n",
       "  <thead>\n",
       "    <tr style=\"text-align: right;\">\n",
       "      <th></th>\n",
       "      <th>moderator</th>\n",
       "      <th>id_request</th>\n",
       "      <th>request_time</th>\n",
       "      <th>start_time</th>\n",
       "      <th>finish_time</th>\n",
       "      <th>team</th>\n",
       "    </tr>\n",
       "  </thead>\n",
       "  <tbody>\n",
       "    <tr>\n",
       "      <th>0</th>\n",
       "      <td>165</td>\n",
       "      <td>159660</td>\n",
       "      <td>2020-09-24 7:01:16</td>\n",
       "      <td>2020-10-01 16:00:31</td>\n",
       "      <td>2020-10-01 16:02:02</td>\n",
       "      <td>retail</td>\n",
       "    </tr>\n",
       "    <tr>\n",
       "      <th>1</th>\n",
       "      <td>178</td>\n",
       "      <td>160116</td>\n",
       "      <td>2020-09-24 22:32:15</td>\n",
       "      <td>2020-10-01 13:21:42</td>\n",
       "      <td>2020-10-01 13:21:43</td>\n",
       "      <td>retail</td>\n",
       "    </tr>\n",
       "    <tr>\n",
       "      <th>2</th>\n",
       "      <td>187</td>\n",
       "      <td>160178</td>\n",
       "      <td>2020-09-25 2:58:13</td>\n",
       "      <td>2020-10-02 11:37:16</td>\n",
       "      <td>2020-10-02 11:41:56</td>\n",
       "      <td>wholesale</td>\n",
       "    </tr>\n",
       "    <tr>\n",
       "      <th>3</th>\n",
       "      <td>178</td>\n",
       "      <td>160306</td>\n",
       "      <td>2020-09-25 9:44:12</td>\n",
       "      <td>2020-10-02 7:23:09</td>\n",
       "      <td>2020-10-02 7:25:33</td>\n",
       "      <td>retail</td>\n",
       "    </tr>\n",
       "    <tr>\n",
       "      <th>4</th>\n",
       "      <td>178</td>\n",
       "      <td>163042</td>\n",
       "      <td>2020-09-30 15:56:08</td>\n",
       "      <td>2020-10-02 7:37:33</td>\n",
       "      <td>2020-10-02 7:47:57</td>\n",
       "      <td>retail</td>\n",
       "    </tr>\n",
       "  </tbody>\n",
       "</table>\n",
       "</div>"
      ],
      "text/plain": [
       "   moderator  id_request         request_time           start_time  \\\n",
       "0        165      159660   2020-09-24 7:01:16  2020-10-01 16:00:31   \n",
       "1        178      160116  2020-09-24 22:32:15  2020-10-01 13:21:42   \n",
       "2        187      160178   2020-09-25 2:58:13  2020-10-02 11:37:16   \n",
       "3        178      160306   2020-09-25 9:44:12   2020-10-02 7:23:09   \n",
       "4        178      163042  2020-09-30 15:56:08   2020-10-02 7:37:33   \n",
       "\n",
       "           finish_time       team  \n",
       "0  2020-10-01 16:02:02     retail  \n",
       "1  2020-10-01 13:21:43     retail  \n",
       "2  2020-10-02 11:41:56  wholesale  \n",
       "3   2020-10-02 7:25:33     retail  \n",
       "4   2020-10-02 7:47:57     retail  "
      ]
     },
     "execution_count": 5,
     "metadata": {},
     "output_type": "execute_result"
    }
   ],
   "source": [
    "df.head(5)"
   ]
  },
  {
   "cell_type": "code",
   "execution_count": 6,
   "id": "9f443382-b9e1-4fa4-a9b4-7de66dd3e6cd",
   "metadata": {},
   "outputs": [
    {
     "name": "stdout",
     "output_type": "stream",
     "text": [
      "Rows: 35617\n"
     ]
    }
   ],
   "source": [
    "print(f'Rows: {len(df)}')"
   ]
  },
  {
   "cell_type": "code",
   "execution_count": 7,
   "id": "df52445d-f2e4-4153-a114-420d8dded9fc",
   "metadata": {},
   "outputs": [
    {
     "name": "stdout",
     "output_type": "stream",
     "text": [
      "Duplicated id_request: 0\n"
     ]
    }
   ],
   "source": [
    "print(f'Duplicated id_request: {len(df[df[\"id_request\"].duplicated()])}')"
   ]
  },
  {
   "cell_type": "code",
   "execution_count": 8,
   "id": "3790aca5-f7f6-4850-8680-84ee066a5828",
   "metadata": {},
   "outputs": [
    {
     "name": "stdout",
     "output_type": "stream",
     "text": [
      "Unique teams: ['retail' 'wholesale']\n"
     ]
    }
   ],
   "source": [
    "print(f'Unique teams: {df[\"team\"].unique()}')"
   ]
  },
  {
   "cell_type": "code",
   "execution_count": 9,
   "id": "e550f519-cef3-4692-8e93-d8c8e04e9377",
   "metadata": {},
   "outputs": [
    {
     "name": "stdout",
     "output_type": "stream",
     "text": [
      "Check intersection for retail and wholesale teams:\n",
      "[]\n"
     ]
    }
   ],
   "source": [
    "print('Check intersection for retail and wholesale teams:')\n",
    "print(list(set(df[df[\"team\"] == \"retail\"][\"moderator\"].unique()) & set(df[df[\"team\"] == \"wholesale\"][\"moderator\"].unique())))"
   ]
  },
  {
   "cell_type": "code",
   "execution_count": 10,
   "id": "b4691c82-7ca0-4cc9-8595-0f3b24f098ca",
   "metadata": {},
   "outputs": [
    {
     "name": "stdout",
     "output_type": "stream",
     "text": [
      "Retail team:  24\n",
      "Wholesale team:  25\n"
     ]
    }
   ],
   "source": [
    "print(\"Retail team: \", len(df[df[\"team\"] == \"retail\"][\"moderator\"].unique()))\n",
    "print(\"Wholesale team: \", len(df[df[\"team\"] == \"wholesale\"][\"moderator\"].unique()))"
   ]
  },
  {
   "cell_type": "code",
   "execution_count": 11,
   "id": "9ab7c472-5b5c-456a-9933-576e0ef318fa",
   "metadata": {},
   "outputs": [
    {
     "name": "stdout",
     "output_type": "stream",
     "text": [
      "Time gap for dataset: \n",
      "first - 2020-09-24 22:32:15 \n",
      "last - 2020-12-31 9:57:18\n"
     ]
    }
   ],
   "source": [
    "print(f'Time gap for dataset: \\nfirst - {df['request_time'].min()} \\nlast - {df['request_time'].max()}')"
   ]
  },
  {
   "cell_type": "code",
   "execution_count": 12,
   "id": "13e6bc67-785a-4e46-a428-6457cb01d535",
   "metadata": {},
   "outputs": [],
   "source": [
    "df[\"request_time\"] = pd.to_datetime(df[\"request_time\"])\n",
    "df[\"start_time\"] = pd.to_datetime(df[\"start_time\"])\n",
    "df[\"finish_time\"] = pd.to_datetime(df[\"finish_time\"])"
   ]
  },
  {
   "cell_type": "code",
   "execution_count": 13,
   "id": "a29b2397-250f-4291-83b3-3c490f635065",
   "metadata": {},
   "outputs": [],
   "source": [
    "df[\"time_to_proccess\"] = df[\"start_time\"] - df[\"request_time\"]\n",
    "df[\"processing_time\"] = df[\"finish_time\"] - df[\"start_time\"]"
   ]
  },
  {
   "cell_type": "code",
   "execution_count": 14,
   "id": "984213d1-5d17-4685-9d82-0af084d82609",
   "metadata": {},
   "outputs": [],
   "source": [
    "#Create columns with a time of preprocessing and processing requests in minutes\n",
    "df[\"time_to_proccess_min\"] = df[\"time_to_proccess\"].apply(lambda x: x.total_seconds() / 60)\n",
    "df[\"processing_time_min\"] = df[\"processing_time\"].apply(lambda x: x.total_seconds() / 60)"
   ]
  },
  {
   "cell_type": "code",
   "execution_count": 15,
   "id": "1e907a99-ec0e-4606-b57b-07a6679b7012",
   "metadata": {},
   "outputs": [],
   "source": [
    "df.drop([\"time_to_proccess\",\"processing_time\"], inplace=True, axis=1)"
   ]
  },
  {
   "cell_type": "code",
   "execution_count": 16,
   "id": "6dca7e93-8b0e-42c5-9512-bac29d9db235",
   "metadata": {},
   "outputs": [
    {
     "data": {
      "text/html": [
       "<div>\n",
       "<style scoped>\n",
       "    .dataframe tbody tr th:only-of-type {\n",
       "        vertical-align: middle;\n",
       "    }\n",
       "\n",
       "    .dataframe tbody tr th {\n",
       "        vertical-align: top;\n",
       "    }\n",
       "\n",
       "    .dataframe thead th {\n",
       "        text-align: right;\n",
       "    }\n",
       "</style>\n",
       "<table border=\"1\" class=\"dataframe\">\n",
       "  <thead>\n",
       "    <tr style=\"text-align: right;\">\n",
       "      <th></th>\n",
       "      <th>moderator</th>\n",
       "      <th>id_request</th>\n",
       "      <th>request_time</th>\n",
       "      <th>start_time</th>\n",
       "      <th>finish_time</th>\n",
       "      <th>team</th>\n",
       "      <th>time_to_proccess_min</th>\n",
       "      <th>processing_time_min</th>\n",
       "    </tr>\n",
       "  </thead>\n",
       "  <tbody>\n",
       "    <tr>\n",
       "      <th>0</th>\n",
       "      <td>165</td>\n",
       "      <td>159660</td>\n",
       "      <td>2020-09-24 07:01:16</td>\n",
       "      <td>2020-10-01 16:00:31</td>\n",
       "      <td>2020-10-01 16:02:02</td>\n",
       "      <td>retail</td>\n",
       "      <td>10619.250000</td>\n",
       "      <td>1.516667</td>\n",
       "    </tr>\n",
       "    <tr>\n",
       "      <th>1</th>\n",
       "      <td>178</td>\n",
       "      <td>160116</td>\n",
       "      <td>2020-09-24 22:32:15</td>\n",
       "      <td>2020-10-01 13:21:42</td>\n",
       "      <td>2020-10-01 13:21:43</td>\n",
       "      <td>retail</td>\n",
       "      <td>9529.450000</td>\n",
       "      <td>0.016667</td>\n",
       "    </tr>\n",
       "    <tr>\n",
       "      <th>2</th>\n",
       "      <td>187</td>\n",
       "      <td>160178</td>\n",
       "      <td>2020-09-25 02:58:13</td>\n",
       "      <td>2020-10-02 11:37:16</td>\n",
       "      <td>2020-10-02 11:41:56</td>\n",
       "      <td>wholesale</td>\n",
       "      <td>10599.050000</td>\n",
       "      <td>4.666667</td>\n",
       "    </tr>\n",
       "    <tr>\n",
       "      <th>3</th>\n",
       "      <td>178</td>\n",
       "      <td>160306</td>\n",
       "      <td>2020-09-25 09:44:12</td>\n",
       "      <td>2020-10-02 07:23:09</td>\n",
       "      <td>2020-10-02 07:25:33</td>\n",
       "      <td>retail</td>\n",
       "      <td>9938.950000</td>\n",
       "      <td>2.400000</td>\n",
       "    </tr>\n",
       "    <tr>\n",
       "      <th>4</th>\n",
       "      <td>178</td>\n",
       "      <td>163042</td>\n",
       "      <td>2020-09-30 15:56:08</td>\n",
       "      <td>2020-10-02 07:37:33</td>\n",
       "      <td>2020-10-02 07:47:57</td>\n",
       "      <td>retail</td>\n",
       "      <td>2381.416667</td>\n",
       "      <td>10.400000</td>\n",
       "    </tr>\n",
       "  </tbody>\n",
       "</table>\n",
       "</div>"
      ],
      "text/plain": [
       "   moderator  id_request        request_time          start_time  \\\n",
       "0        165      159660 2020-09-24 07:01:16 2020-10-01 16:00:31   \n",
       "1        178      160116 2020-09-24 22:32:15 2020-10-01 13:21:42   \n",
       "2        187      160178 2020-09-25 02:58:13 2020-10-02 11:37:16   \n",
       "3        178      160306 2020-09-25 09:44:12 2020-10-02 07:23:09   \n",
       "4        178      163042 2020-09-30 15:56:08 2020-10-02 07:37:33   \n",
       "\n",
       "          finish_time       team  time_to_proccess_min  processing_time_min  \n",
       "0 2020-10-01 16:02:02     retail          10619.250000             1.516667  \n",
       "1 2020-10-01 13:21:43     retail           9529.450000             0.016667  \n",
       "2 2020-10-02 11:41:56  wholesale          10599.050000             4.666667  \n",
       "3 2020-10-02 07:25:33     retail           9938.950000             2.400000  \n",
       "4 2020-10-02 07:47:57     retail           2381.416667            10.400000  "
      ]
     },
     "execution_count": 16,
     "metadata": {},
     "output_type": "execute_result"
    }
   ],
   "source": [
    "df.head()"
   ]
  },
  {
   "cell_type": "markdown",
   "id": "5cea4947-de88-4736-85f4-ed28e6559575",
   "metadata": {},
   "source": [
    "# EDA"
   ]
  },
  {
   "cell_type": "markdown",
   "id": "c8ebb155-bc50-480a-a480-1d5dee766296",
   "metadata": {},
   "source": [
    "_We can see that the requests from September were pending and only began being processed in October. We can assume that in September there was a test launch of the product, and the support team started working in October, or that the requests were not processed on time and were carried over to the next working days._"
   ]
  },
  {
   "cell_type": "markdown",
   "id": "a316eebb-f098-49f6-a562-b5830c9d76ec",
   "metadata": {},
   "source": [
    "_We will check if there are still cases where more than a day passed between the creation of the request and its processing._"
   ]
  },
  {
   "cell_type": "code",
   "execution_count": 17,
   "id": "a0fe356c-8b7b-4505-8f66-6368906aef3e",
   "metadata": {},
   "outputs": [],
   "source": [
    "df[\"from_request_to_start_days\"] = df[\"start_time\"] - df[\"request_time\"]"
   ]
  },
  {
   "cell_type": "code",
   "execution_count": 18,
   "id": "046763c5-7a7a-460f-80ac-ff03485f49b0",
   "metadata": {},
   "outputs": [],
   "source": [
    "mask = df[\"from_request_to_start_days\"].apply(lambda x: x > dt.timedelta(days=1))\n",
    "df_late_processed = df[mask]"
   ]
  },
  {
   "cell_type": "markdown",
   "id": "76f51338-eaaf-4595-98a6-cd5eb0be2ac7",
   "metadata": {},
   "source": [
    "**Requests taken into processing one day or more after creation**"
   ]
  },
  {
   "cell_type": "code",
   "execution_count": 19,
   "id": "d30f3ace-31cd-4d2f-a5e7-515c67ff475e",
   "metadata": {},
   "outputs": [
    {
     "data": {
      "text/html": [
       "<div>\n",
       "<style scoped>\n",
       "    .dataframe tbody tr th:only-of-type {\n",
       "        vertical-align: middle;\n",
       "    }\n",
       "\n",
       "    .dataframe tbody tr th {\n",
       "        vertical-align: top;\n",
       "    }\n",
       "\n",
       "    .dataframe thead th {\n",
       "        text-align: right;\n",
       "    }\n",
       "</style>\n",
       "<table border=\"1\" class=\"dataframe\">\n",
       "  <thead>\n",
       "    <tr style=\"text-align: right;\">\n",
       "      <th></th>\n",
       "      <th>moderator</th>\n",
       "      <th>id_request</th>\n",
       "      <th>request_time</th>\n",
       "      <th>start_time</th>\n",
       "      <th>finish_time</th>\n",
       "      <th>team</th>\n",
       "      <th>time_to_proccess_min</th>\n",
       "      <th>processing_time_min</th>\n",
       "      <th>from_request_to_start_days</th>\n",
       "    </tr>\n",
       "  </thead>\n",
       "  <tbody>\n",
       "    <tr>\n",
       "      <th>0</th>\n",
       "      <td>165</td>\n",
       "      <td>159660</td>\n",
       "      <td>2020-09-24 07:01:16</td>\n",
       "      <td>2020-10-01 16:00:31</td>\n",
       "      <td>2020-10-01 16:02:02</td>\n",
       "      <td>retail</td>\n",
       "      <td>10619.250000</td>\n",
       "      <td>1.516667</td>\n",
       "      <td>7 days 08:59:15</td>\n",
       "    </tr>\n",
       "    <tr>\n",
       "      <th>1</th>\n",
       "      <td>178</td>\n",
       "      <td>160116</td>\n",
       "      <td>2020-09-24 22:32:15</td>\n",
       "      <td>2020-10-01 13:21:42</td>\n",
       "      <td>2020-10-01 13:21:43</td>\n",
       "      <td>retail</td>\n",
       "      <td>9529.450000</td>\n",
       "      <td>0.016667</td>\n",
       "      <td>6 days 14:49:27</td>\n",
       "    </tr>\n",
       "    <tr>\n",
       "      <th>2</th>\n",
       "      <td>187</td>\n",
       "      <td>160178</td>\n",
       "      <td>2020-09-25 02:58:13</td>\n",
       "      <td>2020-10-02 11:37:16</td>\n",
       "      <td>2020-10-02 11:41:56</td>\n",
       "      <td>wholesale</td>\n",
       "      <td>10599.050000</td>\n",
       "      <td>4.666667</td>\n",
       "      <td>7 days 08:39:03</td>\n",
       "    </tr>\n",
       "    <tr>\n",
       "      <th>3</th>\n",
       "      <td>178</td>\n",
       "      <td>160306</td>\n",
       "      <td>2020-09-25 09:44:12</td>\n",
       "      <td>2020-10-02 07:23:09</td>\n",
       "      <td>2020-10-02 07:25:33</td>\n",
       "      <td>retail</td>\n",
       "      <td>9938.950000</td>\n",
       "      <td>2.400000</td>\n",
       "      <td>6 days 21:38:57</td>\n",
       "    </tr>\n",
       "    <tr>\n",
       "      <th>4</th>\n",
       "      <td>178</td>\n",
       "      <td>163042</td>\n",
       "      <td>2020-09-30 15:56:08</td>\n",
       "      <td>2020-10-02 07:37:33</td>\n",
       "      <td>2020-10-02 07:47:57</td>\n",
       "      <td>retail</td>\n",
       "      <td>2381.416667</td>\n",
       "      <td>10.400000</td>\n",
       "      <td>1 days 15:41:25</td>\n",
       "    </tr>\n",
       "  </tbody>\n",
       "</table>\n",
       "</div>"
      ],
      "text/plain": [
       "   moderator  id_request        request_time          start_time  \\\n",
       "0        165      159660 2020-09-24 07:01:16 2020-10-01 16:00:31   \n",
       "1        178      160116 2020-09-24 22:32:15 2020-10-01 13:21:42   \n",
       "2        187      160178 2020-09-25 02:58:13 2020-10-02 11:37:16   \n",
       "3        178      160306 2020-09-25 09:44:12 2020-10-02 07:23:09   \n",
       "4        178      163042 2020-09-30 15:56:08 2020-10-02 07:37:33   \n",
       "\n",
       "          finish_time       team  time_to_proccess_min  processing_time_min  \\\n",
       "0 2020-10-01 16:02:02     retail          10619.250000             1.516667   \n",
       "1 2020-10-01 13:21:43     retail           9529.450000             0.016667   \n",
       "2 2020-10-02 11:41:56  wholesale          10599.050000             4.666667   \n",
       "3 2020-10-02 07:25:33     retail           9938.950000             2.400000   \n",
       "4 2020-10-02 07:47:57     retail           2381.416667            10.400000   \n",
       "\n",
       "  from_request_to_start_days  \n",
       "0            7 days 08:59:15  \n",
       "1            6 days 14:49:27  \n",
       "2            7 days 08:39:03  \n",
       "3            6 days 21:38:57  \n",
       "4            1 days 15:41:25  "
      ]
     },
     "execution_count": 19,
     "metadata": {},
     "output_type": "execute_result"
    }
   ],
   "source": [
    "df_late_processed.head(5)"
   ]
  },
  {
   "cell_type": "code",
   "execution_count": 20,
   "id": "47405de7-6086-4b80-a6ab-999fc5efd596",
   "metadata": {},
   "outputs": [],
   "source": [
    "mask = df[\"from_request_to_start_days\"].apply(lambda x: x < dt.timedelta(days=1))\n",
    "df_properly_processed = df[mask]"
   ]
  },
  {
   "cell_type": "code",
   "execution_count": 21,
   "id": "ee73df96-5043-4d5b-9236-f31f698d6abe",
   "metadata": {},
   "outputs": [
    {
     "data": {
      "text/html": [
       "<div>\n",
       "<style scoped>\n",
       "    .dataframe tbody tr th:only-of-type {\n",
       "        vertical-align: middle;\n",
       "    }\n",
       "\n",
       "    .dataframe tbody tr th {\n",
       "        vertical-align: top;\n",
       "    }\n",
       "\n",
       "    .dataframe thead th {\n",
       "        text-align: right;\n",
       "    }\n",
       "</style>\n",
       "<table border=\"1\" class=\"dataframe\">\n",
       "  <thead>\n",
       "    <tr style=\"text-align: right;\">\n",
       "      <th></th>\n",
       "      <th>moderator</th>\n",
       "      <th>id_request</th>\n",
       "      <th>request_time</th>\n",
       "      <th>start_time</th>\n",
       "      <th>finish_time</th>\n",
       "      <th>team</th>\n",
       "      <th>time_to_proccess_min</th>\n",
       "      <th>processing_time_min</th>\n",
       "      <th>from_request_to_start_days</th>\n",
       "    </tr>\n",
       "  </thead>\n",
       "  <tbody>\n",
       "    <tr>\n",
       "      <th>5</th>\n",
       "      <td>128</td>\n",
       "      <td>163426</td>\n",
       "      <td>2020-10-01 00:58:24</td>\n",
       "      <td>2020-10-01 07:07:31</td>\n",
       "      <td>2020-10-01 07:08:22</td>\n",
       "      <td>wholesale</td>\n",
       "      <td>369.116667</td>\n",
       "      <td>0.850000</td>\n",
       "      <td>0 days 06:09:07</td>\n",
       "    </tr>\n",
       "    <tr>\n",
       "      <th>6</th>\n",
       "      <td>128</td>\n",
       "      <td>163427</td>\n",
       "      <td>2020-10-01 01:02:20</td>\n",
       "      <td>2020-10-01 08:03:58</td>\n",
       "      <td>2020-10-01 08:06:52</td>\n",
       "      <td>wholesale</td>\n",
       "      <td>421.633333</td>\n",
       "      <td>2.900000</td>\n",
       "      <td>0 days 07:01:38</td>\n",
       "    </tr>\n",
       "    <tr>\n",
       "      <th>7</th>\n",
       "      <td>128</td>\n",
       "      <td>163428</td>\n",
       "      <td>2020-10-01 01:04:15</td>\n",
       "      <td>2020-10-01 07:09:57</td>\n",
       "      <td>2020-10-01 07:12:06</td>\n",
       "      <td>wholesale</td>\n",
       "      <td>365.700000</td>\n",
       "      <td>2.150000</td>\n",
       "      <td>0 days 06:05:42</td>\n",
       "    </tr>\n",
       "    <tr>\n",
       "      <th>8</th>\n",
       "      <td>128</td>\n",
       "      <td>163429</td>\n",
       "      <td>2020-10-01 01:07:15</td>\n",
       "      <td>2020-10-01 07:12:06</td>\n",
       "      <td>2020-10-01 07:13:15</td>\n",
       "      <td>wholesale</td>\n",
       "      <td>364.850000</td>\n",
       "      <td>1.150000</td>\n",
       "      <td>0 days 06:04:51</td>\n",
       "    </tr>\n",
       "    <tr>\n",
       "      <th>9</th>\n",
       "      <td>128</td>\n",
       "      <td>163431</td>\n",
       "      <td>2020-10-01 01:14:13</td>\n",
       "      <td>2020-10-01 07:16:04</td>\n",
       "      <td>2020-10-01 07:17:05</td>\n",
       "      <td>wholesale</td>\n",
       "      <td>361.850000</td>\n",
       "      <td>1.016667</td>\n",
       "      <td>0 days 06:01:51</td>\n",
       "    </tr>\n",
       "  </tbody>\n",
       "</table>\n",
       "</div>"
      ],
      "text/plain": [
       "   moderator  id_request        request_time          start_time  \\\n",
       "5        128      163426 2020-10-01 00:58:24 2020-10-01 07:07:31   \n",
       "6        128      163427 2020-10-01 01:02:20 2020-10-01 08:03:58   \n",
       "7        128      163428 2020-10-01 01:04:15 2020-10-01 07:09:57   \n",
       "8        128      163429 2020-10-01 01:07:15 2020-10-01 07:12:06   \n",
       "9        128      163431 2020-10-01 01:14:13 2020-10-01 07:16:04   \n",
       "\n",
       "          finish_time       team  time_to_proccess_min  processing_time_min  \\\n",
       "5 2020-10-01 07:08:22  wholesale            369.116667             0.850000   \n",
       "6 2020-10-01 08:06:52  wholesale            421.633333             2.900000   \n",
       "7 2020-10-01 07:12:06  wholesale            365.700000             2.150000   \n",
       "8 2020-10-01 07:13:15  wholesale            364.850000             1.150000   \n",
       "9 2020-10-01 07:17:05  wholesale            361.850000             1.016667   \n",
       "\n",
       "  from_request_to_start_days  \n",
       "5            0 days 06:09:07  \n",
       "6            0 days 07:01:38  \n",
       "7            0 days 06:05:42  \n",
       "8            0 days 06:04:51  \n",
       "9            0 days 06:01:51  "
      ]
     },
     "execution_count": 21,
     "metadata": {},
     "output_type": "execute_result"
    }
   ],
   "source": [
    "df_properly_processed.head(5)"
   ]
  },
  {
   "cell_type": "markdown",
   "id": "717cbad6-819d-40a2-84dc-ca378332f38e",
   "metadata": {},
   "source": [
    "_The time from the creation of a request to the start of work on it can exceed 7 hours — next, we will check in which teams this occurs._"
   ]
  },
  {
   "cell_type": "code",
   "execution_count": 22,
   "id": "ba5e3548-3d2e-4e46-9e07-1eb9b1dd8392",
   "metadata": {},
   "outputs": [],
   "source": [
    "del df[\"from_request_to_start_days\"]"
   ]
  },
  {
   "cell_type": "code",
   "execution_count": 23,
   "id": "709da1e9-6145-4cda-b3df-3326e428d14a",
   "metadata": {},
   "outputs": [
    {
     "name": "stdout",
     "output_type": "stream",
     "text": [
      "Requests which were processed in the same day: 19534\n",
      "Requests which were processed with more than 1 day delay: 16083\n"
     ]
    }
   ],
   "source": [
    "print(\"Requests which were processed in the same day:\", len(df_properly_processed))\n",
    "print(\"Requests which were processed with more than 1 day delay:\", len(df_late_processed))"
   ]
  },
  {
   "cell_type": "markdown",
   "id": "535405db-6997-41db-80de-8c7e060531a8",
   "metadata": {},
   "source": [
    "**We see that 45% of all requests were processed more than a day after they were created.** "
   ]
  },
  {
   "cell_type": "code",
   "execution_count": 24,
   "id": "1082e0d3-8905-47e8-af60-e9c105c3bc4c",
   "metadata": {},
   "outputs": [
    {
     "data": {
      "text/plain": [
       "team\n",
       "retail         279\n",
       "wholesale    15804\n",
       "Name: id_request, dtype: int64"
      ]
     },
     "execution_count": 24,
     "metadata": {},
     "output_type": "execute_result"
    }
   ],
   "source": [
    "df_late_processed.groupby(\"team\")[\"id_request\"].count()"
   ]
  },
  {
   "cell_type": "code",
   "execution_count": 25,
   "id": "6c3abb4d-a763-4008-aeb9-02135626b461",
   "metadata": {},
   "outputs": [
    {
     "data": {
      "text/plain": [
       "team\n",
       "retail       14025\n",
       "wholesale    21592\n",
       "Name: id_request, dtype: int64"
      ]
     },
     "execution_count": 25,
     "metadata": {},
     "output_type": "execute_result"
    }
   ],
   "source": [
    "df.groupby(\"team\")[\"id_request\"].count()"
   ]
  },
  {
   "cell_type": "markdown",
   "id": "d36e992d-98dd-49fb-ae68-fcf56a35b8da",
   "metadata": {},
   "source": [
    "**Percentage of requests processed with a delay:**  \n",
    "**- retail 2%**  \n",
    "**- wholesale 73%**"
   ]
  },
  {
   "cell_type": "markdown",
   "id": "7446ca49-445d-4e72-9349-3156f08611ae",
   "metadata": {},
   "source": [
    "_This means that the wholesale support team has significant delays in processing requests._"
   ]
  },
  {
   "cell_type": "markdown",
   "id": "d286f599-3bff-41aa-bd01-f806fd572efb",
   "metadata": {},
   "source": [
    "_We will check when the support agents started working and whether both teams were fully staffed at the start of the quarter._"
   ]
  },
  {
   "cell_type": "code",
   "execution_count": 26,
   "id": "42d7bd0f-25f1-4b68-b144-07db39e06a32",
   "metadata": {},
   "outputs": [],
   "source": [
    "employers_first_day = df[[\"team\",\"moderator\", \"start_time\"]].groupby([\"team\",\"moderator\"])[\"start_time\"].min()"
   ]
  },
  {
   "cell_type": "code",
   "execution_count": 27,
   "id": "3883df1e-bf20-4f08-902f-0e0f652d35ea",
   "metadata": {},
   "outputs": [],
   "source": [
    "employers_first_day = employers_first_day.reset_index() \n",
    "employers_first_day[\"year-month-day\"] = employers_first_day[\"start_time\"].dt.to_period('D')"
   ]
  },
  {
   "cell_type": "code",
   "execution_count": 28,
   "id": "11e07b60-2c94-4995-bbf7-31f85d224035",
   "metadata": {},
   "outputs": [
    {
     "data": {
      "text/html": [
       "<div>\n",
       "<style scoped>\n",
       "    .dataframe tbody tr th:only-of-type {\n",
       "        vertical-align: middle;\n",
       "    }\n",
       "\n",
       "    .dataframe tbody tr th {\n",
       "        vertical-align: top;\n",
       "    }\n",
       "\n",
       "    .dataframe thead th {\n",
       "        text-align: right;\n",
       "    }\n",
       "</style>\n",
       "<table border=\"1\" class=\"dataframe\">\n",
       "  <thead>\n",
       "    <tr style=\"text-align: right;\">\n",
       "      <th></th>\n",
       "      <th>team</th>\n",
       "      <th>moderator</th>\n",
       "      <th>start_time</th>\n",
       "      <th>year-month-day</th>\n",
       "    </tr>\n",
       "  </thead>\n",
       "  <tbody>\n",
       "    <tr>\n",
       "      <th>0</th>\n",
       "      <td>retail</td>\n",
       "      <td>109</td>\n",
       "      <td>2020-10-30 10:29:54</td>\n",
       "      <td>2020-10-30</td>\n",
       "    </tr>\n",
       "    <tr>\n",
       "      <th>2</th>\n",
       "      <td>retail</td>\n",
       "      <td>111</td>\n",
       "      <td>2020-10-05 08:59:14</td>\n",
       "      <td>2020-10-05</td>\n",
       "    </tr>\n",
       "    <tr>\n",
       "      <th>6</th>\n",
       "      <td>retail</td>\n",
       "      <td>133</td>\n",
       "      <td>2020-10-09 11:07:28</td>\n",
       "      <td>2020-10-09</td>\n",
       "    </tr>\n",
       "    <tr>\n",
       "      <th>7</th>\n",
       "      <td>retail</td>\n",
       "      <td>134</td>\n",
       "      <td>2020-10-07 11:05:37</td>\n",
       "      <td>2020-10-07</td>\n",
       "    </tr>\n",
       "    <tr>\n",
       "      <th>12</th>\n",
       "      <td>retail</td>\n",
       "      <td>148</td>\n",
       "      <td>2020-10-17 07:36:04</td>\n",
       "      <td>2020-10-17</td>\n",
       "    </tr>\n",
       "    <tr>\n",
       "      <th>13</th>\n",
       "      <td>retail</td>\n",
       "      <td>150</td>\n",
       "      <td>2020-10-09 12:08:47</td>\n",
       "      <td>2020-10-09</td>\n",
       "    </tr>\n",
       "    <tr>\n",
       "      <th>15</th>\n",
       "      <td>retail</td>\n",
       "      <td>156</td>\n",
       "      <td>2020-10-05 11:52:36</td>\n",
       "      <td>2020-10-05</td>\n",
       "    </tr>\n",
       "    <tr>\n",
       "      <th>16</th>\n",
       "      <td>retail</td>\n",
       "      <td>164</td>\n",
       "      <td>2020-10-07 07:09:17</td>\n",
       "      <td>2020-10-07</td>\n",
       "    </tr>\n",
       "    <tr>\n",
       "      <th>21</th>\n",
       "      <td>retail</td>\n",
       "      <td>176</td>\n",
       "      <td>2020-10-07 09:59:50</td>\n",
       "      <td>2020-10-07</td>\n",
       "    </tr>\n",
       "    <tr>\n",
       "      <th>24</th>\n",
       "      <td>wholesale</td>\n",
       "      <td>102</td>\n",
       "      <td>2020-11-16 12:42:15</td>\n",
       "      <td>2020-11-16</td>\n",
       "    </tr>\n",
       "    <tr>\n",
       "      <th>30</th>\n",
       "      <td>wholesale</td>\n",
       "      <td>125</td>\n",
       "      <td>2020-10-07 15:54:07</td>\n",
       "      <td>2020-10-07</td>\n",
       "    </tr>\n",
       "    <tr>\n",
       "      <th>31</th>\n",
       "      <td>wholesale</td>\n",
       "      <td>126</td>\n",
       "      <td>2020-12-06 11:40:56</td>\n",
       "      <td>2020-12-06</td>\n",
       "    </tr>\n",
       "    <tr>\n",
       "      <th>36</th>\n",
       "      <td>wholesale</td>\n",
       "      <td>146</td>\n",
       "      <td>2020-10-09 11:44:41</td>\n",
       "      <td>2020-10-09</td>\n",
       "    </tr>\n",
       "    <tr>\n",
       "      <th>46</th>\n",
       "      <td>wholesale</td>\n",
       "      <td>185</td>\n",
       "      <td>2020-11-25 09:31:26</td>\n",
       "      <td>2020-11-25</td>\n",
       "    </tr>\n",
       "  </tbody>\n",
       "</table>\n",
       "</div>"
      ],
      "text/plain": [
       "         team  moderator          start_time year-month-day\n",
       "0      retail        109 2020-10-30 10:29:54     2020-10-30\n",
       "2      retail        111 2020-10-05 08:59:14     2020-10-05\n",
       "6      retail        133 2020-10-09 11:07:28     2020-10-09\n",
       "7      retail        134 2020-10-07 11:05:37     2020-10-07\n",
       "12     retail        148 2020-10-17 07:36:04     2020-10-17\n",
       "13     retail        150 2020-10-09 12:08:47     2020-10-09\n",
       "15     retail        156 2020-10-05 11:52:36     2020-10-05\n",
       "16     retail        164 2020-10-07 07:09:17     2020-10-07\n",
       "21     retail        176 2020-10-07 09:59:50     2020-10-07\n",
       "24  wholesale        102 2020-11-16 12:42:15     2020-11-16\n",
       "30  wholesale        125 2020-10-07 15:54:07     2020-10-07\n",
       "31  wholesale        126 2020-12-06 11:40:56     2020-12-06\n",
       "36  wholesale        146 2020-10-09 11:44:41     2020-10-09\n",
       "46  wholesale        185 2020-11-25 09:31:26     2020-11-25"
      ]
     },
     "execution_count": 28,
     "metadata": {},
     "output_type": "execute_result"
    }
   ],
   "source": [
    "employers_first_day[employers_first_day[\"start_time\"] > \"2020-10-05\"]"
   ]
  },
  {
   "cell_type": "markdown",
   "id": "363273ab-f7ec-4d08-907b-32e48c68f683",
   "metadata": {},
   "source": [
    "**Only these moderators started working later than the others — I assume they were hired later.\n",
    "Since most members of both teams began processing requests in October, we can reject the assumption that the delays in the wholesale team were due to a lack of staff.** "
   ]
  },
  {
   "cell_type": "markdown",
   "id": "299de9fa-6fce-4420-ac89-573624b5ae59",
   "metadata": {},
   "source": [
    "_We assume that the late processing of requests may be related to the workload of the wholesale department._"
   ]
  },
  {
   "cell_type": "markdown",
   "id": "a4f1147d-0b70-47e5-9b5c-256c2aa32e5f",
   "metadata": {},
   "source": [
    "_We will check the number of requests in September to determine how important this information is._"
   ]
  },
  {
   "cell_type": "code",
   "execution_count": 29,
   "id": "9c166e8f-eb89-4bbe-a68c-adfe6a72595d",
   "metadata": {},
   "outputs": [],
   "source": [
    "df['request_time_year_month'] = df['request_time'].dt.to_period('M')\n",
    "df['start_time_year_month'] = df['request_time'].dt.to_period('M')"
   ]
  },
  {
   "cell_type": "code",
   "execution_count": 30,
   "id": "c33ff42b-84e3-4202-a1a0-e9b9141d5e5e",
   "metadata": {},
   "outputs": [
    {
     "data": {
      "text/plain": [
       "team       request_time_year_month\n",
       "retail     2020-09                        4\n",
       "           2020-10                     3263\n",
       "           2020-11                     4310\n",
       "           2020-12                     6448\n",
       "wholesale  2020-09                        1\n",
       "           2020-10                     2141\n",
       "           2020-11                     6384\n",
       "           2020-12                    13066\n",
       "Name: id_request, dtype: int64"
      ]
     },
     "execution_count": 30,
     "metadata": {},
     "output_type": "execute_result"
    }
   ],
   "source": [
    "df.groupby(['team', 'request_time_year_month'])[\"id_request\"].count()"
   ]
  },
  {
   "cell_type": "markdown",
   "id": "2c1626f5-c071-4012-9e68-0362c87caa04",
   "metadata": {},
   "source": [
    "**For further analysis, we will only use data from the last quarter of 2020, since the data for a few days in September is not representative.**"
   ]
  },
  {
   "cell_type": "code",
   "execution_count": 31,
   "id": "a077ca2c-359c-4ec7-8771-201268aeec15",
   "metadata": {},
   "outputs": [],
   "source": [
    "df_q4 = df[df[\"request_time_year_month\"] >= \"2020-10\"]"
   ]
  },
  {
   "cell_type": "markdown",
   "id": "147a58da-2bbc-4a13-914c-63fff9d04213",
   "metadata": {},
   "source": [
    "__Before calculating the actual response time relative to the expected one, we need to check the working hours of the moderators and find out why some requests are taken into processing several days after their creation.__  "
   ]
  },
  {
   "cell_type": "markdown",
   "id": "2a341ffd-ad00-46a2-8d5c-975387dafd9d",
   "metadata": {},
   "source": [
    "_For the analysis, we will select a time period in which the workload for both teams was at a normal level._"
   ]
  },
  {
   "cell_type": "markdown",
   "id": "382738e7-d19d-4c63-9c3f-ce57af1c4d5a",
   "metadata": {},
   "source": [
    "_Let’s look at how many requests are received weekly during Q4 to select a representative week._"
   ]
  },
  {
   "cell_type": "code",
   "execution_count": 32,
   "id": "191a825e-3e71-468b-8b4f-79d0e70df28e",
   "metadata": {},
   "outputs": [],
   "source": [
    "df_q4[\"week\"] = df_q4[\"start_time\"].dt.isocalendar().week"
   ]
  },
  {
   "cell_type": "code",
   "execution_count": 33,
   "id": "2b672534-9b07-40c8-9d56-b4552fbb92ba",
   "metadata": {},
   "outputs": [],
   "source": [
    "requests_weekly_retail = df_q4[df_q4[\"team\"] == \"retail\"].groupby(\"week\")[\"id_request\"].count().reset_index()\n",
    "requests_weekly_wholesale = df_q4[df_q4[\"team\"] == \"wholesale\"].groupby(\"week\")[\"id_request\"].count().reset_index()\n",
    "\n",
    "requests_weekly = pd.merge(requests_weekly_retail,requests_weekly_wholesale, on = \"week\")\n",
    "requests_weekly.rename(columns={\"id_request_x\": \"retail\", \"id_request_y\": \"wholesale\"}, inplace = True)"
   ]
  },
  {
   "cell_type": "code",
   "execution_count": 34,
   "id": "94fd7e0c-b2aa-42e9-8770-7e55ec1f2ace",
   "metadata": {},
   "outputs": [
    {
     "data": {
      "image/png": "[encoded data removed]",
      "text/plain": [
       "<Figure size 640x480 with 1 Axes>"
      ]
     },
     "metadata": {},
     "output_type": "display_data"
    }
   ],
   "source": [
    "requests_weekly.plot(x = \"week\", y = [\"retail\", \"wholesale\"], kind = \"bar\", stacked=True)\n",
    "plt.title(\"Requests per team Q4\")\n",
    "plt.xlabel(\"Week\")\n",
    "plt.ylabel(\"Amount of requests\")\n",
    "plt.show()"
   ]
  },
  {
   "cell_type": "markdown",
   "id": "046b89e9-2a64-4ddd-971d-073e799a8c56",
   "metadata": {},
   "source": [
    "_We can see that the workload increases from week 48 of 2020, which corresponds to the week of Black Friday.\n",
    "The following week after Black Friday is not as busy compared to the peak weeks, but the request volume still remains elevated.\n",
    "Until the end of the year, the workload for the teams remains high, likely due to the winter holidays._"
   ]
  },
  {
   "cell_type": "markdown",
   "id": "1693b2f9-2612-4c7f-97e4-0a9a636a25e6",
   "metadata": {},
   "source": [
    "_For a comparative analysis of the teams’ working schedules, we could initially consider week 41 (October 5–11, 2020). However, given that at the beginning of October, 14 employees processed requests for the first time, it is likely that these were new hires._\n",
    "  \n",
    "**For further analysis, we have selected week 47, when the team was already fully staffed and had been working for some time.**"
   ]
  },
  {
   "cell_type": "markdown",
   "id": "c5b6ba9b-9aea-45cc-9a9c-e6506a5e93bc",
   "metadata": {},
   "source": [
    "_But before that, let’s look at when exactly the delays in processing requests occur — whether the requests are processed slowly by the moderator or are simply waiting too long before being assigned to a moderator._"
   ]
  },
  {
   "cell_type": "markdown",
   "id": "755ff78f-c73b-43f6-a223-b0699a6f377e",
   "metadata": {},
   "source": [
    "# Metric"
   ]
  },
  {
   "cell_type": "code",
   "execution_count": 35,
   "id": "0e4ec6db-ed0c-4e3d-8d3a-4cf62c141c50",
   "metadata": {},
   "outputs": [],
   "source": [
    "monthly_counts_retail = df_q4[df_q4[\"team\"] == \"retail\"].groupby('request_time_year_month')['id_request'].count()\n",
    "monthly_counts_wholesale = df_q4[df_q4[\"team\"] == \"wholesale\"].groupby('request_time_year_month')['id_request'].count()\n",
    "\n",
    "monthly_counts_retail_time_to_process = df_q4[df_q4[\"team\"] == \"retail\"].groupby('request_time_year_month')['time_to_proccess_min'].mean()\n",
    "monthly_counts_wholesale_time_to_process = df_q4[df_q4[\"team\"] == \"wholesale\"].groupby('request_time_year_month')['time_to_proccess_min'].mean()\n",
    "\n",
    "monthly_counts_retail_processing_time_min = df_q4[df_q4[\"team\"] == \"retail\"].groupby('request_time_year_month')['processing_time_min'].mean()\n",
    "monthly_counts_wholesale_processing_time_min = df_q4[df_q4[\"team\"] == \"wholesale\"].groupby('request_time_year_month')['processing_time_min'].mean()"
   ]
  },
  {
   "cell_type": "code",
   "execution_count": 36,
   "id": "d3029a76-bb1c-4879-a83a-bdf1b5b8b691",
   "metadata": {},
   "outputs": [
    {
     "name": "stdout",
     "output_type": "stream",
     "text": [
      "Retail\n",
      "\n",
      "monthly_counts_retail: request_time_year_month\n",
      "2020-10    3263\n",
      "2020-11    4310\n",
      "2020-12    6448\n",
      "Freq: M, Name: id_request, dtype: int64\n",
      "\n",
      "monthly_counts_retail_time_to_process: request_time_year_month\n",
      "2020-10    2078.597926\n",
      "2020-11     209.111756\n",
      "2020-12     125.310026\n",
      "Freq: M, Name: time_to_proccess_min, dtype: float64\n",
      "\n",
      "monthly_counts_retail_processing_time_min: request_time_year_month\n",
      "2020-10    1.848207\n",
      "2020-11    1.983480\n",
      "2020-12    2.037379\n",
      "Freq: M, Name: processing_time_min, dtype: float64\n"
     ]
    }
   ],
   "source": [
    "print(\"Retail\")\n",
    "print(\"\\nmonthly_counts_retail:\", monthly_counts_retail)\n",
    "print(\"\\nmonthly_counts_retail_time_to_process:\", monthly_counts_retail_time_to_process)\n",
    "print(\"\\nmonthly_counts_retail_processing_time_min:\", monthly_counts_retail_processing_time_min)"
   ]
  },
  {
   "cell_type": "code",
   "execution_count": 37,
   "id": "a2c9c99b-5052-4abb-a16d-7157653e839d",
   "metadata": {},
   "outputs": [
    {
     "name": "stdout",
     "output_type": "stream",
     "text": [
      "Wholesale\n",
      "\n",
      "nmonthly_counts_wholesale: request_time_year_month\n",
      "2020-10     2141\n",
      "2020-11     6384\n",
      "2020-12    13066\n",
      "Freq: M, Name: id_request, dtype: int64\n",
      "\n",
      "monthly_counts_wholesale_time_to_process: request_time_year_month\n",
      "2020-10    3359.625354\n",
      "2020-11    1692.620708\n",
      "2020-12    4698.853276\n",
      "Freq: M, Name: time_to_proccess_min, dtype: float64\n",
      "\n",
      "monthly_counts_wholesale_processing_time_min: request_time_year_month\n",
      "2020-10    3.165561\n",
      "2020-11    2.458487\n",
      "2020-12    2.271682\n",
      "Freq: M, Name: processing_time_min, dtype: float64\n"
     ]
    }
   ],
   "source": [
    "print(\"Wholesale\")\n",
    "print(\"\\nnmonthly_counts_wholesale:\",monthly_counts_wholesale)\n",
    "print(\"\\nmonthly_counts_wholesale_time_to_process:\",monthly_counts_wholesale_time_to_process)\n",
    "print(\"\\nmonthly_counts_wholesale_processing_time_min:\",monthly_counts_wholesale_processing_time_min)"
   ]
  },
  {
   "cell_type": "code",
   "execution_count": 38,
   "id": "0a54644f-3857-482e-bc6e-b4c0b1759f21",
   "metadata": {},
   "outputs": [
    {
     "name": "stdout",
     "output_type": "stream",
     "text": [
      "% retail requests: 0.3936603307409383\n",
      "% wholesale requests: 0.6061992868573995\n"
     ]
    }
   ],
   "source": [
    "print(\"% retail requests:\", monthly_counts_retail.values.sum()/ df['id_request'].count())\n",
    "print(\"% wholesale requests:\",monthly_counts_wholesale.values.sum()/ df['id_request'].count())"
   ]
  },
  {
   "cell_type": "markdown",
   "id": "b83d14a8-8ef9-4760-802f-351ac9194a4b",
   "metadata": {},
   "source": [
    "_We can see that in terms of processing time, both teams meet the manager’s requirement of completing the request within 15 minutes._  \n",
    "_However, the time to take a request into processing differs significantly from the desired target of 5 minutes._"
   ]
  },
  {
   "cell_type": "markdown",
   "id": "36476298-1713-45b9-9d40-65fcfe2f48f3",
   "metadata": {},
   "source": [
    "**Let’s see what percentage of requests are processed on time — within the acceptable time frame (up to 45 minutes for request processing) and within the desired time frame (up to 15 minutes). We will also look at how long it takes from the moment a request appears to when it is taken into processing (acceptable time — up to 5 minutes from the moment the request appears).**"
   ]
  },
  {
   "cell_type": "markdown",
   "id": "dcdd5671-9d18-4c12-bb4e-b3760a9294fa",
   "metadata": {},
   "source": [
    "Definition of KPI for moderators and comparison with actual data\n",
    "\n",
    "- Excellent KPI: time to take into processing ≤ 5 minutes and processing time ≤ 15 minutes\n",
    "\n",
    "- Acceptable KPI: time to take into processing ≤ 5 minutes and processing time ≤ 45 minutes\n",
    "\n",
    "- Poor KPI: time to take into processing ≥ 5 minutes and processing time > 45 minutes\n",
    "\n",
    "The analysis is carried out for all requests within the team."
   ]
  },
  {
   "cell_type": "markdown",
   "id": "df2994a6-fae5-4547-89d6-522d46ce6957",
   "metadata": {},
   "source": [
    "According to the information above, we can define all possible scenarios:\n",
    "\n",
    "- Request taken into processing within ≤ 5 minutes from appearance and processed in ≤ 15 minutes — excellent\n",
    "\n",
    "- Request taken into processing within ≤ 5 minutes from appearance and processed in (15 min; 45 min] — acceptable\n",
    "\n",
    "- Request taken into processing in > 5 minutes from appearance and processed in ≤ 15 minutes — late to start but excellent processing speed\n",
    "\n",
    "- Request taken into processing in > 5 minutes from appearance and processed in > 45 minutes — poor"
   ]
  },
  {
   "cell_type": "markdown",
   "id": "2ee061fe-8515-4dc8-8772-943793bb4690",
   "metadata": {},
   "source": [
    "#### Retail"
   ]
  },
  {
   "cell_type": "markdown",
   "id": "b1687961-eb6b-44b9-b59e-4b00de14b4a6",
   "metadata": {},
   "source": [
    "_Let’s create a table showing the percentage ratio of all possible request processing scenarios._"
   ]
  },
  {
   "cell_type": "code",
   "execution_count": 39,
   "id": "cd7a2d94-2a9a-4f10-a835-6de9efd78ae1",
   "metadata": {},
   "outputs": [],
   "source": [
    "excellent_kpi = df_q4.loc[\n",
    "    (df_q4[\"team\"] == \"retail\") &\n",
    "    (df_q4[\"time_to_proccess_min\"] <= 5) &\n",
    "    (df_q4[\"processing_time_min\"] <= 15)\n",
    "].groupby('request_time_year_month')['id_request'].count()\n",
    "\n",
    "acceptable_kpi = df_q4.loc[\n",
    "    (df_q4[\"team\"] == \"retail\") &\n",
    "    (df_q4[\"time_to_proccess_min\"] <= 5) &\n",
    "    (df_q4[\"processing_time_min\"] > 15) &\n",
    "    (df_q4[\"processing_time_min\"] <= 45)\n",
    "].groupby('request_time_year_month')['id_request'].count()\n",
    "\n",
    "long_taking_time_excellent_answear = df_q4.loc[\n",
    "    (df_q4[\"team\"] == \"retail\") &\n",
    "    (df_q4[\"time_to_proccess_min\"] > 5) &\n",
    "    (df_q4[\"processing_time_min\"] <= 15)\n",
    "].groupby('request_time_year_month')['id_request'].count()\n",
    "\n",
    "long_taking_time_acceptable_answear = df_q4.loc[\n",
    "    (df_q4[\"team\"] == \"retail\") &\n",
    "    (df_q4[\"time_to_proccess_min\"] > 5) &\n",
    "    (df_q4[\"processing_time_min\"] > 15) &\n",
    "    (df_q4[\"processing_time_min\"] <= 45)\n",
    "].groupby('request_time_year_month')['id_request'].count()\n",
    "\n",
    "amount_of_requests = df_q4.query(\"team == 'retail'\").groupby('request_time_year_month')['id_request'].count()\n",
    "\n",
    "df_q4_kpi_retail = pd.DataFrame({\n",
    "    \"Excellent\": excellent_kpi/amount_of_requests * 100,\n",
    "    \"Acceptable\": acceptable_kpi/amount_of_requests * 100,\n",
    "    \"LateTakingFastAnswer\": long_taking_time_excellent_answear/amount_of_requests * 100,\n",
    "    \"LateTakingAcceptableAnswer\": long_taking_time_acceptable_answear/amount_of_requests * 100,\n",
    "})\n",
    "df_q4_kpi_retail.fillna(0, inplace=True)"
   ]
  },
  {
   "cell_type": "code",
   "execution_count": 40,
   "id": "a192c5e3-c3c0-4861-971b-d331970d97ca",
   "metadata": {},
   "outputs": [
    {
     "data": {
      "text/html": [
       "<div>\n",
       "<style scoped>\n",
       "    .dataframe tbody tr th:only-of-type {\n",
       "        vertical-align: middle;\n",
       "    }\n",
       "\n",
       "    .dataframe tbody tr th {\n",
       "        vertical-align: top;\n",
       "    }\n",
       "\n",
       "    .dataframe thead th {\n",
       "        text-align: right;\n",
       "    }\n",
       "</style>\n",
       "<table border=\"1\" class=\"dataframe\">\n",
       "  <thead>\n",
       "    <tr style=\"text-align: right;\">\n",
       "      <th></th>\n",
       "      <th>Excellent</th>\n",
       "      <th>Acceptable</th>\n",
       "      <th>LateTakingFastAnswer</th>\n",
       "      <th>LateTakingAcceptableAnswer</th>\n",
       "    </tr>\n",
       "    <tr>\n",
       "      <th>request_time_year_month</th>\n",
       "      <th></th>\n",
       "      <th></th>\n",
       "      <th></th>\n",
       "      <th></th>\n",
       "    </tr>\n",
       "  </thead>\n",
       "  <tbody>\n",
       "    <tr>\n",
       "      <th>2020-10</th>\n",
       "      <td>8.979467</td>\n",
       "      <td>0.000000</td>\n",
       "      <td>90.714067</td>\n",
       "      <td>0.306466</td>\n",
       "    </tr>\n",
       "    <tr>\n",
       "      <th>2020-11</th>\n",
       "      <td>3.480278</td>\n",
       "      <td>0.023202</td>\n",
       "      <td>96.078886</td>\n",
       "      <td>0.417633</td>\n",
       "    </tr>\n",
       "    <tr>\n",
       "      <th>2020-12</th>\n",
       "      <td>2.062655</td>\n",
       "      <td>0.000000</td>\n",
       "      <td>97.658189</td>\n",
       "      <td>0.279156</td>\n",
       "    </tr>\n",
       "  </tbody>\n",
       "</table>\n",
       "</div>"
      ],
      "text/plain": [
       "                         Excellent  Acceptable  LateTakingFastAnswer  \\\n",
       "request_time_year_month                                                \n",
       "2020-10                   8.979467    0.000000             90.714067   \n",
       "2020-11                   3.480278    0.023202             96.078886   \n",
       "2020-12                   2.062655    0.000000             97.658189   \n",
       "\n",
       "                         LateTakingAcceptableAnswer  \n",
       "request_time_year_month                              \n",
       "2020-10                                    0.306466  \n",
       "2020-11                                    0.417633  \n",
       "2020-12                                    0.279156  "
      ]
     },
     "execution_count": 40,
     "metadata": {},
     "output_type": "execute_result"
    }
   ],
   "source": [
    "df_q4_kpi_retail"
   ]
  },
  {
   "cell_type": "markdown",
   "id": "1130656c-f288-46d1-8da7-93bd3c10d2d1",
   "metadata": {},
   "source": [
    "**The largest number of requests were processed quickly (within 15 minutes) but were taken into processing later than 5 minutes after the request appeared.\n",
    "The processing time for requests does not exceed 45 minutes, so the only problem lies in the time it takes to take the request into work.**  \n",
    "\n",
    "Assumptions:\n",
    "\n",
    "- Requests arrive at night and are only processed during working hours\n",
    "\n",
    "- Heavy workload for the team"
   ]
  },
  {
   "cell_type": "markdown",
   "id": "f35b5bab-b6dc-4862-b79d-3e2723065e4e",
   "metadata": {},
   "source": [
    "#### Wholesale"
   ]
  },
  {
   "cell_type": "code",
   "execution_count": 41,
   "id": "6e2846ef-2bb7-43e1-abe1-d70f48d8cea5",
   "metadata": {},
   "outputs": [],
   "source": [
    "excellent_kpi = df_q4.loc[\n",
    "    (df_q4[\"team\"] == \"wholesale\") &\n",
    "    (df_q4[\"time_to_proccess_min\"] <= 5) &\n",
    "    (df_q4[\"processing_time_min\"] <= 15)\n",
    "].groupby('request_time_year_month')['id_request'].count()\n",
    "\n",
    "acceptable_kpi = df_q4.loc[\n",
    "    (df_q4[\"team\"] == \"wholesale\") &\n",
    "    (df_q4[\"time_to_proccess_min\"] <= 5) &\n",
    "    (df_q4[\"processing_time_min\"] > 15) &\n",
    "    (df_q4[\"processing_time_min\"] <= 45)\n",
    "].groupby('request_time_year_month')['id_request'].count()\n",
    "\n",
    "long_taking_time_excellent_answear = df_q4.loc[\n",
    "    (df_q4[\"team\"] == \"wholesale\") &\n",
    "    (df_q4[\"time_to_proccess_min\"] > 5) &\n",
    "    (df_q4[\"processing_time_min\"] <= 15)\n",
    "].groupby('request_time_year_month')['id_request'].count()\n",
    "\n",
    "late_taking_time_acceptable_answear = df_q4.loc[\n",
    "    (df_q4[\"team\"] == \"wholesale\") &\n",
    "    (df_q4[\"time_to_proccess_min\"] > 5) &\n",
    "    (df_q4[\"processing_time_min\"] > 15) &\n",
    "    (df_q4[\"processing_time_min\"] <= 45)\n",
    "].groupby('request_time_year_month')['id_request'].count()\n",
    "\n",
    "\n",
    "amount_of_requests = df_q4.query(\"team == 'wholesale'\").groupby('request_time_year_month')['id_request'].count()\n",
    "\n",
    "df_kpi_wholesale = pd.DataFrame({\n",
    "    \"Excellent %\": excellent_kpi/amount_of_requests * 100,\n",
    "    \"Acceptable %\": acceptable_kpi/amount_of_requests * 100,\n",
    "    \"LongTakingFastAnswer %\": long_taking_time_excellent_answear/amount_of_requests * 100,\n",
    "    \"LateTakingAcceptableAnswer %\": late_taking_time_acceptable_answear/amount_of_requests * 100\n",
    "})\n",
    "df_kpi_wholesale.fillna(0, inplace=True)"
   ]
  },
  {
   "cell_type": "code",
   "execution_count": 42,
   "id": "9b95243c-7191-428f-a5a8-cdde1e780e1c",
   "metadata": {},
   "outputs": [
    {
     "data": {
      "text/html": [
       "<div>\n",
       "<style scoped>\n",
       "    .dataframe tbody tr th:only-of-type {\n",
       "        vertical-align: middle;\n",
       "    }\n",
       "\n",
       "    .dataframe tbody tr th {\n",
       "        vertical-align: top;\n",
       "    }\n",
       "\n",
       "    .dataframe thead th {\n",
       "        text-align: right;\n",
       "    }\n",
       "</style>\n",
       "<table border=\"1\" class=\"dataframe\">\n",
       "  <thead>\n",
       "    <tr style=\"text-align: right;\">\n",
       "      <th></th>\n",
       "      <th>Excellent %</th>\n",
       "      <th>Acceptable %</th>\n",
       "      <th>LongTakingFastAnswer %</th>\n",
       "      <th>LateTakingAcceptableAnswer %</th>\n",
       "    </tr>\n",
       "    <tr>\n",
       "      <th>request_time_year_month</th>\n",
       "      <th></th>\n",
       "      <th></th>\n",
       "      <th></th>\n",
       "      <th></th>\n",
       "    </tr>\n",
       "  </thead>\n",
       "  <tbody>\n",
       "    <tr>\n",
       "      <th>2020-10</th>\n",
       "      <td>8.827651</td>\n",
       "      <td>0.140121</td>\n",
       "      <td>89.631014</td>\n",
       "      <td>1.401214</td>\n",
       "    </tr>\n",
       "    <tr>\n",
       "      <th>2020-11</th>\n",
       "      <td>0.501253</td>\n",
       "      <td>0.000000</td>\n",
       "      <td>98.386591</td>\n",
       "      <td>1.112155</td>\n",
       "    </tr>\n",
       "    <tr>\n",
       "      <th>2020-12</th>\n",
       "      <td>0.068881</td>\n",
       "      <td>0.000000</td>\n",
       "      <td>99.410684</td>\n",
       "      <td>0.520435</td>\n",
       "    </tr>\n",
       "  </tbody>\n",
       "</table>\n",
       "</div>"
      ],
      "text/plain": [
       "                         Excellent %  Acceptable %  LongTakingFastAnswer %  \\\n",
       "request_time_year_month                                                      \n",
       "2020-10                     8.827651      0.140121               89.631014   \n",
       "2020-11                     0.501253      0.000000               98.386591   \n",
       "2020-12                     0.068881      0.000000               99.410684   \n",
       "\n",
       "                         LateTakingAcceptableAnswer %  \n",
       "request_time_year_month                                \n",
       "2020-10                                      1.401214  \n",
       "2020-11                                      1.112155  \n",
       "2020-12                                      0.520435  "
      ]
     },
     "execution_count": 42,
     "metadata": {},
     "output_type": "execute_result"
    }
   ],
   "source": [
    "df_kpi_wholesale.head()"
   ]
  },
  {
   "cell_type": "markdown",
   "id": "7ec2262e-395a-4609-9a7b-dfa49663a6f3",
   "metadata": {},
   "source": [
    "**An identical situation can be seen for the wholesale support team — processing times are quick (up to 15 minutes), but requests are taken into processing late.**"
   ]
  },
  {
   "cell_type": "markdown",
   "id": "413d4971-6a5c-4665-b53b-a7534fdc3630",
   "metadata": {},
   "source": [
    "_Let’s look at how both teams operate to understand what causes the delay in taking requests into work._"
   ]
  },
  {
   "cell_type": "markdown",
   "id": "d56feda2-2518-4600-9305-849d8c6a68f9",
   "metadata": {},
   "source": [
    "# Retail team"
   ]
  },
  {
   "cell_type": "markdown",
   "id": "b045383f-7a89-4b6e-afcd-eb9e51b3e0cc",
   "metadata": {},
   "source": [
    "_Let’s examine in more detail how the retail support team worked during this week._"
   ]
  },
  {
   "cell_type": "code",
   "execution_count": 43,
   "id": "b248b978-946e-4102-9602-3547c88d50cb",
   "metadata": {},
   "outputs": [],
   "source": [
    "df_q4_filterd_one_week_retail = df_q4.loc[\n",
    "    (df_q4[\"request_time\"] >= \"2020-11-16\") &\n",
    "    (df_q4[\"request_time\"] < \"2020-11-23\") &\n",
    "    (df_q4[\"team\"] == \"retail\")\n",
    "]\n",
    "\n",
    "df_q4_filterd_one_week_retail[\"day_of_week_start_time\"] = df_q4_filterd_one_week_retail[\"start_time\"].dt.day_name()\n",
    "\n",
    "\n",
    "df_q4_filterd_one_week_retail[\"day_of_week_start_time\"] = pd.Categorical(\n",
    "                                                                df_q4_filterd_one_week_retail[\"day_of_week_start_time\"],\n",
    "                                                                categories=days_order,\n",
    "                                                                ordered=True\n",
    "                                                            )\n",
    "\n",
    "start_of_shift_retail = df_q4_filterd_one_week_retail.groupby(['moderator', 'day_of_week_start_time'])['start_time'].min()\n",
    "end_of_shift_retail = df_q4_filterd_one_week_retail.groupby(['moderator', 'day_of_week_start_time'])['start_time'].max()\n",
    "\n",
    "schedule_retail = pd.DataFrame({\n",
    "    \"First request\": start_of_shift_retail,\n",
    "    \"Last request\": end_of_shift_retail\n",
    "})\n",
    "\n",
    "schedule_retail = schedule_retail.dropna()"
   ]
  },
  {
   "cell_type": "code",
   "execution_count": 44,
   "id": "d1f0df59-3b6a-4465-ac83-42cff4f8a961",
   "metadata": {},
   "outputs": [],
   "source": [
    "schedule_retail[\"shift_duration_hours\"] = (schedule_retail[\"Last request\"] - schedule_retail[\"First request\"]).dt.total_seconds() / 3600\n",
    "\n",
    "schedule_retail = schedule_retail.reset_index()"
   ]
  },
  {
   "cell_type": "code",
   "execution_count": 45,
   "id": "b6a61b98-ef32-4f94-8579-b8d51a5a2ac2",
   "metadata": {
    "scrolled": true
   },
   "outputs": [
    {
     "data": {
      "text/html": [
       "<div>\n",
       "<style scoped>\n",
       "    .dataframe tbody tr th:only-of-type {\n",
       "        vertical-align: middle;\n",
       "    }\n",
       "\n",
       "    .dataframe tbody tr th {\n",
       "        vertical-align: top;\n",
       "    }\n",
       "\n",
       "    .dataframe thead th {\n",
       "        text-align: right;\n",
       "    }\n",
       "</style>\n",
       "<table border=\"1\" class=\"dataframe\">\n",
       "  <thead>\n",
       "    <tr style=\"text-align: right;\">\n",
       "      <th></th>\n",
       "      <th>moderator</th>\n",
       "      <th>day_of_week_start_time</th>\n",
       "      <th>First request</th>\n",
       "      <th>Last request</th>\n",
       "      <th>shift_duration_hours</th>\n",
       "    </tr>\n",
       "  </thead>\n",
       "  <tbody>\n",
       "    <tr>\n",
       "      <th>8</th>\n",
       "      <td>121</td>\n",
       "      <td>Monday</td>\n",
       "      <td>2020-11-16 10:59:46</td>\n",
       "      <td>2020-11-16 11:28:20</td>\n",
       "      <td>0.476111</td>\n",
       "    </tr>\n",
       "    <tr>\n",
       "      <th>13</th>\n",
       "      <td>136</td>\n",
       "      <td>Monday</td>\n",
       "      <td>2020-11-16 07:27:53</td>\n",
       "      <td>2020-11-16 13:05:11</td>\n",
       "      <td>5.621667</td>\n",
       "    </tr>\n",
       "    <tr>\n",
       "      <th>38</th>\n",
       "      <td>173</td>\n",
       "      <td>Monday</td>\n",
       "      <td>2020-11-23 07:01:09</td>\n",
       "      <td>2020-11-23 07:27:00</td>\n",
       "      <td>0.430833</td>\n",
       "    </tr>\n",
       "    <tr>\n",
       "      <th>41</th>\n",
       "      <td>176</td>\n",
       "      <td>Monday</td>\n",
       "      <td>2020-11-16 13:06:12</td>\n",
       "      <td>2020-11-16 13:06:42</td>\n",
       "      <td>0.008333</td>\n",
       "    </tr>\n",
       "    <tr>\n",
       "      <th>33</th>\n",
       "      <td>167</td>\n",
       "      <td>Monday</td>\n",
       "      <td>2020-11-23 07:12:59</td>\n",
       "      <td>2020-11-23 07:25:52</td>\n",
       "      <td>0.214722</td>\n",
       "    </tr>\n",
       "    <tr>\n",
       "      <th>35</th>\n",
       "      <td>172</td>\n",
       "      <td>Monday</td>\n",
       "      <td>2020-11-16 09:01:32</td>\n",
       "      <td>2020-11-16 09:05:41</td>\n",
       "      <td>0.069167</td>\n",
       "    </tr>\n",
       "    <tr>\n",
       "      <th>44</th>\n",
       "      <td>178</td>\n",
       "      <td>Monday</td>\n",
       "      <td>2020-11-23 07:00:58</td>\n",
       "      <td>2020-11-23 07:21:36</td>\n",
       "      <td>0.343889</td>\n",
       "    </tr>\n",
       "    <tr>\n",
       "      <th>47</th>\n",
       "      <td>186</td>\n",
       "      <td>Monday</td>\n",
       "      <td>2020-11-16 15:02:32</td>\n",
       "      <td>2020-11-16 21:06:04</td>\n",
       "      <td>6.058889</td>\n",
       "    </tr>\n",
       "    <tr>\n",
       "      <th>42</th>\n",
       "      <td>176</td>\n",
       "      <td>Tuesday</td>\n",
       "      <td>2020-11-17 09:24:49</td>\n",
       "      <td>2020-11-17 12:28:34</td>\n",
       "      <td>3.062500</td>\n",
       "    </tr>\n",
       "    <tr>\n",
       "      <th>36</th>\n",
       "      <td>172</td>\n",
       "      <td>Tuesday</td>\n",
       "      <td>2020-11-17 10:18:52</td>\n",
       "      <td>2020-11-17 12:29:07</td>\n",
       "      <td>2.170833</td>\n",
       "    </tr>\n",
       "    <tr>\n",
       "      <th>9</th>\n",
       "      <td>121</td>\n",
       "      <td>Tuesday</td>\n",
       "      <td>2020-11-17 08:28:47</td>\n",
       "      <td>2020-11-17 13:08:55</td>\n",
       "      <td>4.668889</td>\n",
       "    </tr>\n",
       "    <tr>\n",
       "      <th>3</th>\n",
       "      <td>111</td>\n",
       "      <td>Tuesday</td>\n",
       "      <td>2020-11-17 12:12:52</td>\n",
       "      <td>2020-11-17 12:45:34</td>\n",
       "      <td>0.545000</td>\n",
       "    </tr>\n",
       "    <tr>\n",
       "      <th>26</th>\n",
       "      <td>164</td>\n",
       "      <td>Tuesday</td>\n",
       "      <td>2020-11-17 07:11:47</td>\n",
       "      <td>2020-11-17 13:18:14</td>\n",
       "      <td>6.107500</td>\n",
       "    </tr>\n",
       "    <tr>\n",
       "      <th>14</th>\n",
       "      <td>136</td>\n",
       "      <td>Tuesday</td>\n",
       "      <td>2020-11-17 07:18:23</td>\n",
       "      <td>2020-11-17 12:27:31</td>\n",
       "      <td>5.152222</td>\n",
       "    </tr>\n",
       "    <tr>\n",
       "      <th>5</th>\n",
       "      <td>117</td>\n",
       "      <td>Tuesday</td>\n",
       "      <td>2020-11-17 15:05:34</td>\n",
       "      <td>2020-11-17 19:15:41</td>\n",
       "      <td>4.168611</td>\n",
       "    </tr>\n",
       "    <tr>\n",
       "      <th>30</th>\n",
       "      <td>165</td>\n",
       "      <td>Wednesday</td>\n",
       "      <td>2020-11-18 15:09:59</td>\n",
       "      <td>2020-11-18 21:37:40</td>\n",
       "      <td>6.461389</td>\n",
       "    </tr>\n",
       "    <tr>\n",
       "      <th>0</th>\n",
       "      <td>109</td>\n",
       "      <td>Wednesday</td>\n",
       "      <td>2020-11-18 09:09:37</td>\n",
       "      <td>2020-11-18 14:40:20</td>\n",
       "      <td>5.511944</td>\n",
       "    </tr>\n",
       "    <tr>\n",
       "      <th>23</th>\n",
       "      <td>156</td>\n",
       "      <td>Wednesday</td>\n",
       "      <td>2020-11-18 11:14:04</td>\n",
       "      <td>2020-11-18 13:17:20</td>\n",
       "      <td>2.054444</td>\n",
       "    </tr>\n",
       "    <tr>\n",
       "      <th>6</th>\n",
       "      <td>117</td>\n",
       "      <td>Wednesday</td>\n",
       "      <td>2020-11-25 16:04:28</td>\n",
       "      <td>2020-11-25 16:04:28</td>\n",
       "      <td>0.000000</td>\n",
       "    </tr>\n",
       "    <tr>\n",
       "      <th>45</th>\n",
       "      <td>178</td>\n",
       "      <td>Wednesday</td>\n",
       "      <td>2020-11-18 11:14:33</td>\n",
       "      <td>2020-11-18 11:40:17</td>\n",
       "      <td>0.428889</td>\n",
       "    </tr>\n",
       "    <tr>\n",
       "      <th>17</th>\n",
       "      <td>141</td>\n",
       "      <td>Wednesday</td>\n",
       "      <td>2020-11-18 07:04:45</td>\n",
       "      <td>2020-11-18 11:11:16</td>\n",
       "      <td>4.108611</td>\n",
       "    </tr>\n",
       "    <tr>\n",
       "      <th>31</th>\n",
       "      <td>165</td>\n",
       "      <td>Thursday</td>\n",
       "      <td>2020-11-19 15:11:30</td>\n",
       "      <td>2020-11-19 20:59:36</td>\n",
       "      <td>5.801667</td>\n",
       "    </tr>\n",
       "    <tr>\n",
       "      <th>27</th>\n",
       "      <td>164</td>\n",
       "      <td>Thursday</td>\n",
       "      <td>2020-12-10 07:09:11</td>\n",
       "      <td>2020-12-10 07:09:11</td>\n",
       "      <td>0.000000</td>\n",
       "    </tr>\n",
       "    <tr>\n",
       "      <th>39</th>\n",
       "      <td>173</td>\n",
       "      <td>Thursday</td>\n",
       "      <td>2020-11-19 09:07:28</td>\n",
       "      <td>2020-11-19 12:05:31</td>\n",
       "      <td>2.967500</td>\n",
       "    </tr>\n",
       "    <tr>\n",
       "      <th>24</th>\n",
       "      <td>156</td>\n",
       "      <td>Thursday</td>\n",
       "      <td>2020-11-19 07:08:25</td>\n",
       "      <td>2020-11-19 11:47:53</td>\n",
       "      <td>4.657778</td>\n",
       "    </tr>\n",
       "    <tr>\n",
       "      <th>18</th>\n",
       "      <td>141</td>\n",
       "      <td>Thursday</td>\n",
       "      <td>2020-11-19 07:09:09</td>\n",
       "      <td>2020-11-19 14:59:42</td>\n",
       "      <td>7.842500</td>\n",
       "    </tr>\n",
       "    <tr>\n",
       "      <th>11</th>\n",
       "      <td>135</td>\n",
       "      <td>Thursday</td>\n",
       "      <td>2020-11-19 13:05:34</td>\n",
       "      <td>2020-11-19 13:48:25</td>\n",
       "      <td>0.714167</td>\n",
       "    </tr>\n",
       "    <tr>\n",
       "      <th>20</th>\n",
       "      <td>148</td>\n",
       "      <td>Thursday</td>\n",
       "      <td>2020-11-26 17:55:27</td>\n",
       "      <td>2020-11-26 17:55:27</td>\n",
       "      <td>0.000000</td>\n",
       "    </tr>\n",
       "    <tr>\n",
       "      <th>1</th>\n",
       "      <td>109</td>\n",
       "      <td>Thursday</td>\n",
       "      <td>2020-11-19 09:14:44</td>\n",
       "      <td>2020-11-19 09:48:28</td>\n",
       "      <td>0.562222</td>\n",
       "    </tr>\n",
       "    <tr>\n",
       "      <th>48</th>\n",
       "      <td>186</td>\n",
       "      <td>Friday</td>\n",
       "      <td>2020-11-20 15:03:27</td>\n",
       "      <td>2020-11-20 22:38:26</td>\n",
       "      <td>7.583056</td>\n",
       "    </tr>\n",
       "    <tr>\n",
       "      <th>15</th>\n",
       "      <td>136</td>\n",
       "      <td>Friday</td>\n",
       "      <td>2020-11-20 11:06:05</td>\n",
       "      <td>2020-11-20 11:23:09</td>\n",
       "      <td>0.284444</td>\n",
       "    </tr>\n",
       "    <tr>\n",
       "      <th>10</th>\n",
       "      <td>121</td>\n",
       "      <td>Friday</td>\n",
       "      <td>2020-11-20 07:33:55</td>\n",
       "      <td>2020-11-20 13:48:51</td>\n",
       "      <td>6.248889</td>\n",
       "    </tr>\n",
       "    <tr>\n",
       "      <th>37</th>\n",
       "      <td>172</td>\n",
       "      <td>Friday</td>\n",
       "      <td>2020-11-20 07:07:09</td>\n",
       "      <td>2020-11-20 07:43:09</td>\n",
       "      <td>0.600000</td>\n",
       "    </tr>\n",
       "    <tr>\n",
       "      <th>28</th>\n",
       "      <td>164</td>\n",
       "      <td>Friday</td>\n",
       "      <td>2020-11-20 09:57:22</td>\n",
       "      <td>2020-11-20 13:48:55</td>\n",
       "      <td>3.859167</td>\n",
       "    </tr>\n",
       "    <tr>\n",
       "      <th>21</th>\n",
       "      <td>152</td>\n",
       "      <td>Friday</td>\n",
       "      <td>2020-11-20 13:41:27</td>\n",
       "      <td>2020-11-20 13:53:28</td>\n",
       "      <td>0.200278</td>\n",
       "    </tr>\n",
       "    <tr>\n",
       "      <th>29</th>\n",
       "      <td>164</td>\n",
       "      <td>Saturday</td>\n",
       "      <td>2020-11-21 12:39:49</td>\n",
       "      <td>2020-11-21 13:12:09</td>\n",
       "      <td>0.538889</td>\n",
       "    </tr>\n",
       "    <tr>\n",
       "      <th>16</th>\n",
       "      <td>136</td>\n",
       "      <td>Saturday</td>\n",
       "      <td>2020-11-21 07:07:34</td>\n",
       "      <td>2020-11-21 14:43:09</td>\n",
       "      <td>7.593056</td>\n",
       "    </tr>\n",
       "    <tr>\n",
       "      <th>4</th>\n",
       "      <td>111</td>\n",
       "      <td>Saturday</td>\n",
       "      <td>2020-11-21 09:52:00</td>\n",
       "      <td>2020-11-21 11:00:56</td>\n",
       "      <td>1.148889</td>\n",
       "    </tr>\n",
       "    <tr>\n",
       "      <th>22</th>\n",
       "      <td>152</td>\n",
       "      <td>Saturday</td>\n",
       "      <td>2020-11-21 07:06:42</td>\n",
       "      <td>2020-11-21 14:32:59</td>\n",
       "      <td>7.438056</td>\n",
       "    </tr>\n",
       "    <tr>\n",
       "      <th>43</th>\n",
       "      <td>176</td>\n",
       "      <td>Saturday</td>\n",
       "      <td>2020-11-21 10:59:43</td>\n",
       "      <td>2020-11-21 11:09:49</td>\n",
       "      <td>0.168333</td>\n",
       "    </tr>\n",
       "    <tr>\n",
       "      <th>7</th>\n",
       "      <td>117</td>\n",
       "      <td>Saturday</td>\n",
       "      <td>2020-11-21 15:23:29</td>\n",
       "      <td>2020-11-21 21:58:28</td>\n",
       "      <td>6.583056</td>\n",
       "    </tr>\n",
       "    <tr>\n",
       "      <th>2</th>\n",
       "      <td>109</td>\n",
       "      <td>Sunday</td>\n",
       "      <td>2020-11-22 07:14:47</td>\n",
       "      <td>2020-11-22 09:29:51</td>\n",
       "      <td>2.251111</td>\n",
       "    </tr>\n",
       "    <tr>\n",
       "      <th>46</th>\n",
       "      <td>178</td>\n",
       "      <td>Sunday</td>\n",
       "      <td>2020-11-22 11:08:03</td>\n",
       "      <td>2020-11-22 11:31:37</td>\n",
       "      <td>0.392778</td>\n",
       "    </tr>\n",
       "    <tr>\n",
       "      <th>25</th>\n",
       "      <td>156</td>\n",
       "      <td>Sunday</td>\n",
       "      <td>2020-11-22 11:09:56</td>\n",
       "      <td>2020-11-22 13:15:24</td>\n",
       "      <td>2.091111</td>\n",
       "    </tr>\n",
       "    <tr>\n",
       "      <th>12</th>\n",
       "      <td>135</td>\n",
       "      <td>Sunday</td>\n",
       "      <td>2020-11-22 08:57:50</td>\n",
       "      <td>2020-11-22 13:15:31</td>\n",
       "      <td>4.294722</td>\n",
       "    </tr>\n",
       "    <tr>\n",
       "      <th>34</th>\n",
       "      <td>167</td>\n",
       "      <td>Sunday</td>\n",
       "      <td>2020-11-22 11:58:28</td>\n",
       "      <td>2020-11-22 14:58:37</td>\n",
       "      <td>3.002500</td>\n",
       "    </tr>\n",
       "    <tr>\n",
       "      <th>32</th>\n",
       "      <td>165</td>\n",
       "      <td>Sunday</td>\n",
       "      <td>2020-11-22 15:07:48</td>\n",
       "      <td>2020-11-22 20:27:52</td>\n",
       "      <td>5.334444</td>\n",
       "    </tr>\n",
       "    <tr>\n",
       "      <th>19</th>\n",
       "      <td>141</td>\n",
       "      <td>Sunday</td>\n",
       "      <td>2020-11-22 08:57:42</td>\n",
       "      <td>2020-11-22 09:34:29</td>\n",
       "      <td>0.613056</td>\n",
       "    </tr>\n",
       "    <tr>\n",
       "      <th>40</th>\n",
       "      <td>173</td>\n",
       "      <td>Sunday</td>\n",
       "      <td>2020-11-22 07:16:26</td>\n",
       "      <td>2020-11-22 13:43:27</td>\n",
       "      <td>6.450278</td>\n",
       "    </tr>\n",
       "    <tr>\n",
       "      <th>49</th>\n",
       "      <td>186</td>\n",
       "      <td>Sunday</td>\n",
       "      <td>2020-11-29 19:13:10</td>\n",
       "      <td>2020-11-29 19:13:10</td>\n",
       "      <td>0.000000</td>\n",
       "    </tr>\n",
       "  </tbody>\n",
       "</table>\n",
       "</div>"
      ],
      "text/plain": [
       "    moderator day_of_week_start_time       First request        Last request  \\\n",
       "8         121                 Monday 2020-11-16 10:59:46 2020-11-16 11:28:20   \n",
       "13        136                 Monday 2020-11-16 07:27:53 2020-11-16 13:05:11   \n",
       "38        173                 Monday 2020-11-23 07:01:09 2020-11-23 07:27:00   \n",
       "41        176                 Monday 2020-11-16 13:06:12 2020-11-16 13:06:42   \n",
       "33        167                 Monday 2020-11-23 07:12:59 2020-11-23 07:25:52   \n",
       "35        172                 Monday 2020-11-16 09:01:32 2020-11-16 09:05:41   \n",
       "44        178                 Monday 2020-11-23 07:00:58 2020-11-23 07:21:36   \n",
       "47        186                 Monday 2020-11-16 15:02:32 2020-11-16 21:06:04   \n",
       "42        176                Tuesday 2020-11-17 09:24:49 2020-11-17 12:28:34   \n",
       "36        172                Tuesday 2020-11-17 10:18:52 2020-11-17 12:29:07   \n",
       "9         121                Tuesday 2020-11-17 08:28:47 2020-11-17 13:08:55   \n",
       "3         111                Tuesday 2020-11-17 12:12:52 2020-11-17 12:45:34   \n",
       "26        164                Tuesday 2020-11-17 07:11:47 2020-11-17 13:18:14   \n",
       "14        136                Tuesday 2020-11-17 07:18:23 2020-11-17 12:27:31   \n",
       "5         117                Tuesday 2020-11-17 15:05:34 2020-11-17 19:15:41   \n",
       "30        165              Wednesday 2020-11-18 15:09:59 2020-11-18 21:37:40   \n",
       "0         109              Wednesday 2020-11-18 09:09:37 2020-11-18 14:40:20   \n",
       "23        156              Wednesday 2020-11-18 11:14:04 2020-11-18 13:17:20   \n",
       "6         117              Wednesday 2020-11-25 16:04:28 2020-11-25 16:04:28   \n",
       "45        178              Wednesday 2020-11-18 11:14:33 2020-11-18 11:40:17   \n",
       "17        141              Wednesday 2020-11-18 07:04:45 2020-11-18 11:11:16   \n",
       "31        165               Thursday 2020-11-19 15:11:30 2020-11-19 20:59:36   \n",
       "27        164               Thursday 2020-12-10 07:09:11 2020-12-10 07:09:11   \n",
       "39        173               Thursday 2020-11-19 09:07:28 2020-11-19 12:05:31   \n",
       "24        156               Thursday 2020-11-19 07:08:25 2020-11-19 11:47:53   \n",
       "18        141               Thursday 2020-11-19 07:09:09 2020-11-19 14:59:42   \n",
       "11        135               Thursday 2020-11-19 13:05:34 2020-11-19 13:48:25   \n",
       "20        148               Thursday 2020-11-26 17:55:27 2020-11-26 17:55:27   \n",
       "1         109               Thursday 2020-11-19 09:14:44 2020-11-19 09:48:28   \n",
       "48        186                 Friday 2020-11-20 15:03:27 2020-11-20 22:38:26   \n",
       "15        136                 Friday 2020-11-20 11:06:05 2020-11-20 11:23:09   \n",
       "10        121                 Friday 2020-11-20 07:33:55 2020-11-20 13:48:51   \n",
       "37        172                 Friday 2020-11-20 07:07:09 2020-11-20 07:43:09   \n",
       "28        164                 Friday 2020-11-20 09:57:22 2020-11-20 13:48:55   \n",
       "21        152                 Friday 2020-11-20 13:41:27 2020-11-20 13:53:28   \n",
       "29        164               Saturday 2020-11-21 12:39:49 2020-11-21 13:12:09   \n",
       "16        136               Saturday 2020-11-21 07:07:34 2020-11-21 14:43:09   \n",
       "4         111               Saturday 2020-11-21 09:52:00 2020-11-21 11:00:56   \n",
       "22        152               Saturday 2020-11-21 07:06:42 2020-11-21 14:32:59   \n",
       "43        176               Saturday 2020-11-21 10:59:43 2020-11-21 11:09:49   \n",
       "7         117               Saturday 2020-11-21 15:23:29 2020-11-21 21:58:28   \n",
       "2         109                 Sunday 2020-11-22 07:14:47 2020-11-22 09:29:51   \n",
       "46        178                 Sunday 2020-11-22 11:08:03 2020-11-22 11:31:37   \n",
       "25        156                 Sunday 2020-11-22 11:09:56 2020-11-22 13:15:24   \n",
       "12        135                 Sunday 2020-11-22 08:57:50 2020-11-22 13:15:31   \n",
       "34        167                 Sunday 2020-11-22 11:58:28 2020-11-22 14:58:37   \n",
       "32        165                 Sunday 2020-11-22 15:07:48 2020-11-22 20:27:52   \n",
       "19        141                 Sunday 2020-11-22 08:57:42 2020-11-22 09:34:29   \n",
       "40        173                 Sunday 2020-11-22 07:16:26 2020-11-22 13:43:27   \n",
       "49        186                 Sunday 2020-11-29 19:13:10 2020-11-29 19:13:10   \n",
       "\n",
       "    shift_duration_hours  \n",
       "8               0.476111  \n",
       "13              5.621667  \n",
       "38              0.430833  \n",
       "41              0.008333  \n",
       "33              0.214722  \n",
       "35              0.069167  \n",
       "44              0.343889  \n",
       "47              6.058889  \n",
       "42              3.062500  \n",
       "36              2.170833  \n",
       "9               4.668889  \n",
       "3               0.545000  \n",
       "26              6.107500  \n",
       "14              5.152222  \n",
       "5               4.168611  \n",
       "30              6.461389  \n",
       "0               5.511944  \n",
       "23              2.054444  \n",
       "6               0.000000  \n",
       "45              0.428889  \n",
       "17              4.108611  \n",
       "31              5.801667  \n",
       "27              0.000000  \n",
       "39              2.967500  \n",
       "24              4.657778  \n",
       "18              7.842500  \n",
       "11              0.714167  \n",
       "20              0.000000  \n",
       "1               0.562222  \n",
       "48              7.583056  \n",
       "15              0.284444  \n",
       "10              6.248889  \n",
       "37              0.600000  \n",
       "28              3.859167  \n",
       "21              0.200278  \n",
       "29              0.538889  \n",
       "16              7.593056  \n",
       "4               1.148889  \n",
       "22              7.438056  \n",
       "43              0.168333  \n",
       "7               6.583056  \n",
       "2               2.251111  \n",
       "46              0.392778  \n",
       "25              2.091111  \n",
       "12              4.294722  \n",
       "34              3.002500  \n",
       "32              5.334444  \n",
       "19              0.613056  \n",
       "40              6.450278  \n",
       "49              0.000000  "
      ]
     },
     "execution_count": 45,
     "metadata": {},
     "output_type": "execute_result"
    }
   ],
   "source": [
    "schedule_retail.sort_values(by = \"day_of_week_start_time\")"
   ]
  },
  {
   "cell_type": "markdown",
   "id": "22302f2a-2b0e-4861-98db-acfafb3ad20c",
   "metadata": {},
   "source": [
    "We can see from the table that employees work in two shifts:\n",
    "\n",
    "- Morning shift from 7–9 AM to 3 PM\n",
    "\n",
    "- Evening shift from 3 PM to 11 PM"
   ]
  },
  {
   "cell_type": "code",
   "execution_count": 46,
   "id": "a2964a86-0f89-4348-8bd7-3d32fabe9cae",
   "metadata": {},
   "outputs": [],
   "source": [
    "pivot_table_retail = schedule_retail.pivot(\n",
    "    index=\"moderator\", \n",
    "    columns=\"day_of_week_start_time\", \n",
    "    values=\"shift_duration_hours\"\n",
    ")"
   ]
  },
  {
   "cell_type": "code",
   "execution_count": 47,
   "id": "056a0460-2834-4790-9146-6036c4bf2109",
   "metadata": {},
   "outputs": [
    {
     "data": {
      "image/png": "[encoded data removed]",
      "text/plain": [
       "<Figure size 800x700 with 2 Axes>"
      ]
     },
     "metadata": {},
     "output_type": "display_data"
    }
   ],
   "source": [
    "plt.figure( figsize = (8,7))\n",
    "sns.heatmap(pivot_table_retail, annot=True)\n",
    "plt.title(\"Working hours for retail team\")\n",
    "plt.show()"
   ]
  },
  {
   "cell_type": "markdown",
   "id": "d72c3579-6f5b-426c-9713-642e8aba2662",
   "metadata": {},
   "source": [
    "**We can see that the retail team mainly works 2–3 days a week. The length of the working day varies greatly between employees, so we can assume that there are both full-time and hourly workers, or possibly that all work on an hourly basis.**"
   ]
  },
  {
   "cell_type": "markdown",
   "id": "eca5da17-b952-4a89-9d7c-39d99efa3600",
   "metadata": {},
   "source": [
    "_Let’s calculate the median of the average number of working hours._"
   ]
  },
  {
   "cell_type": "code",
   "execution_count": 48,
   "id": "1899b858-5106-4afa-978f-2d1ad9c6e2f8",
   "metadata": {},
   "outputs": [
    {
     "data": {
      "text/plain": [
       "day_of_week_start_time\n",
       "Monday       5.840278\n",
       "Tuesday      4.221759\n",
       "Wednesday    4.534097\n",
       "Thursday     5.317361\n",
       "Friday       5.897037\n",
       "Saturday     5.690764\n",
       "Sunday       3.904028\n",
       "dtype: float64"
      ]
     },
     "execution_count": 48,
     "metadata": {},
     "output_type": "execute_result"
    }
   ],
   "source": [
    "pivot_table_retail[(pivot_table_retail > 1)].mean()"
   ]
  },
  {
   "cell_type": "markdown",
   "id": "5fef92ce-990a-4cf2-ab0c-46198fc001b7",
   "metadata": {},
   "source": [
    "_Let’s look at when requests were received during this week._"
   ]
  },
  {
   "cell_type": "code",
   "execution_count": 49,
   "id": "d77be55a-204c-418a-af31-bea73fcca9bc",
   "metadata": {},
   "outputs": [
    {
     "data": {
      "image/png": "[encoded data removed]",
      "text/plain": [
       "<Figure size 1000x600 with 1 Axes>"
      ]
     },
     "metadata": {},
     "output_type": "display_data"
    }
   ],
   "source": [
    "df_q4_filterd_one_week_retail[\"day_of_week_request\"] = df_q4_filterd_one_week_retail[\"request_time\"].dt.day_name()\n",
    "df_q4_filterd_one_week_retail[\"day_of_week_request\"] = pd.Categorical(\n",
    "                                                                df_q4_filterd_one_week_retail[\"day_of_week_request\"],\n",
    "                                                                categories=days_order,\n",
    "                                                                ordered=True\n",
    "                                                            )\n",
    "\n",
    "\n",
    "\n",
    "df_q4_filterd_one_week_retail.groupby('day_of_week_request')['id_request'].count()\n",
    "\n",
    "plt.figure(figsize = (10,6))\n",
    "sns.barplot(df_q4_filterd_one_week_retail.groupby('day_of_week_request')['id_request'].count())\n",
    "plt.xlabel(\"Day of a week\")\n",
    "plt.ylabel(\"Amount of requests\")\n",
    "plt.title(\"Request frequency [retail]\")\n",
    "plt.show()"
   ]
  },
  {
   "cell_type": "markdown",
   "id": "0c786f52-5b96-4878-bbad-6305df09d427",
   "metadata": {},
   "source": [
    "_We can see that the fewest requests came in on Monday, and the most on Sunday — which corresponds to the number of employees working those days. On Monday only 5 people worked, while on Sunday 8 people were working._"
   ]
  },
  {
   "cell_type": "markdown",
   "id": "7db969b4-9605-4276-accf-b52d825af207",
   "metadata": {},
   "source": [
    "_Let’s check how many requests per person per day we have._"
   ]
  },
  {
   "cell_type": "code",
   "execution_count": 50,
   "id": "ca11a506-354d-4445-99b6-7a21f02d1e2d",
   "metadata": {},
   "outputs": [
    {
     "data": {
      "text/plain": [
       "144.0"
      ]
     },
     "execution_count": 50,
     "metadata": {},
     "output_type": "execute_result"
    }
   ],
   "source": [
    "df_q4_filterd_one_week_retail.groupby(\"day_of_week_request\")[\"id_request\"].count().mean()"
   ]
  },
  {
   "cell_type": "code",
   "execution_count": 51,
   "id": "591accf5-ad44-462e-bed6-b6ec7f45a3d9",
   "metadata": {},
   "outputs": [
    {
     "data": {
      "text/plain": [
       "8.0"
      ]
     },
     "execution_count": 51,
     "metadata": {},
     "output_type": "execute_result"
    }
   ],
   "source": [
    "df_q4_filterd_one_week_retail.groupby([\"moderator\" ,\"day_of_week_request\"])[\"id_request\"].count().mean()"
   ]
  },
  {
   "cell_type": "markdown",
   "id": "c457e9a7-0dc8-43d2-be7c-e28f8ca36476",
   "metadata": {},
   "source": [
    "_We have 145 requests in total, with one person processing an average of 8 requests._  \n",
    "_Considering the desired KPI, a person should spend 5 + 15 minutes to complete 1 request, with 5 + 45 minutes being acceptable._\n",
    "\n",
    "**Let’s calculate the number of people needed to process all requests in a full working day scenario.**\n",
    "\n",
    "_One employee should process 7*60 / 20 = 21 requests — this is our KPI._  \n",
    "_The minimum target is 7*60 / 50 = 8.4 - equests per day._\n",
    "\n",
    "_Currently, the retail support team is completing the minimum number of requests, despite the fact that most employees work fewer than 8 hours per day._\n",
    "\n",
    "_At this speed, we would need 145/8=18 people per day to be able to process all orders on the same day they are received._  \n",
    "_At the moment, there are only 2–6 people working per day, which explains why requests are taken into processing with a delay._\n",
    "\n",
    "**Recommendation: Increase the number of people per shift to 9, which would allow requests to be taken into processing within 5 minutes of receipt.**  \n",
    "_It is also important to note that there is no night shift, so all requests received before 7 AM cannot technically be processed on time._"
   ]
  },
  {
   "cell_type": "markdown",
   "id": "0d783f23-166b-4b20-905c-ea4b4b82d3bf",
   "metadata": {},
   "source": [
    "**Let’s see what percentage of requests were completed on a different day than they were created.**"
   ]
  },
  {
   "cell_type": "code",
   "execution_count": 52,
   "id": "ad3aae3b-c5b2-4a40-ac66-914b0d7a033b",
   "metadata": {},
   "outputs": [
    {
     "data": {
      "image/png": "[encoded data removed]",
      "text/plain": [
       "<Figure size 1000x600 with 1 Axes>"
      ]
     },
     "metadata": {},
     "output_type": "display_data"
    }
   ],
   "source": [
    "df_q4_filterd_one_week_retail[\"same_day_processed\"] = (\n",
    "    df_q4_filterd_one_week_retail[\"request_time\"].dt.date == \n",
    "    df_q4_filterd_one_week_retail[\"start_time\"].dt.date\n",
    ")\n",
    "\n",
    "summary_by_day = df_q4_filterd_one_week_retail.groupby(\"day_of_week_request\")[\"same_day_processed\"].value_counts().unstack().fillna(0) * 100\n",
    "\n",
    "days_order = ['Monday', 'Tuesday', 'Wednesday', 'Thursday', 'Friday', 'Saturday', 'Sunday']\n",
    "summary_by_day = summary_by_day.reindex(days_order)\n",
    "\n",
    "\n",
    "summary_by_day.plot(kind='bar', stacked=True, figsize=(10,6))\n",
    "plt.xlabel(\"Day of a week\")\n",
    "plt.ylabel(\"Amount of requests\")\n",
    "plt.title(\"Requests processed in the same day vs late [retail]\")\n",
    "plt.legend([\"Later\", \"The same day\"])\n",
    "plt.show()"
   ]
  },
  {
   "cell_type": "markdown",
   "id": "350c43a0-0814-4929-b7e3-fa361aafbf02",
   "metadata": {},
   "source": [
    "_Let’s check how many requests are created during non-working hours (from 11 PM to 7 AM)._"
   ]
  },
  {
   "cell_type": "code",
   "execution_count": 53,
   "id": "eebe86c2-c34b-48f2-8957-b0e77ade4fbe",
   "metadata": {},
   "outputs": [],
   "source": [
    "df_q4_filterd_one_week_retail[\"within_working_hours\"] = np.where(\n",
    "    (df_q4_filterd_one_week_retail[\"request_time\"].dt.hour >= 7) & \n",
    "    (df_q4_filterd_one_week_retail[\"request_time\"].dt.hour < 22), \n",
    "    1, \n",
    "    0\n",
    ")"
   ]
  },
  {
   "cell_type": "code",
   "execution_count": 54,
   "id": "293ca234-7921-4ccb-8c18-f6ab4f0da6eb",
   "metadata": {},
   "outputs": [
    {
     "data": {
      "text/plain": [
       "day_of_week_request  within_working_hours\n",
       "Monday               0                         4\n",
       "                     1                        43\n",
       "Tuesday              0                        20\n",
       "                     1                       170\n",
       "Wednesday            0                         7\n",
       "                     1                       121\n",
       "Thursday             0                         8\n",
       "                     1                       108\n",
       "Friday               0                         9\n",
       "                     1                       116\n",
       "Saturday             0                         4\n",
       "                     1                       142\n",
       "Sunday               0                        24\n",
       "                     1                       232\n",
       "Name: id_request, dtype: int64"
      ]
     },
     "execution_count": 54,
     "metadata": {},
     "output_type": "execute_result"
    }
   ],
   "source": [
    "df_q4_filterd_one_week_retail.groupby([\"day_of_week_request\",\"within_working_hours\"])[\"id_request\"].count()"
   ]
  },
  {
   "cell_type": "markdown",
   "id": "17357d76-d866-4229-a181-587bd6bd1756",
   "metadata": {},
   "source": [
    "_We can see that the number of night-time requests is not critical, so let’s look at the hours when the most requests are created and processed._"
   ]
  },
  {
   "cell_type": "code",
   "execution_count": 55,
   "id": "c41609da-a3bd-49aa-a4ca-a9288a6677ae",
   "metadata": {},
   "outputs": [],
   "source": [
    "df_q4_filterd_one_week_retail[\"request_hour\"] = df_q4_filterd_one_week_retail[\"request_time\"].dt.hour\n",
    "df_q4_filterd_one_week_retail[\"start_hour\"] = df_q4_filterd_one_week_retail[\"start_time\"].dt.hour\n",
    "\n",
    "request_by_hour = df_q4_filterd_one_week_retail[\"request_hour\"].value_counts().sort_index()\n",
    "start_by_hour = df_q4_filterd_one_week_retail[\"start_hour\"].value_counts().sort_index()\n",
    "\n",
    "request_create_processing = pd.DataFrame({\n",
    "    \"Create\": request_by_hour,\n",
    "    \"Handling\": start_by_hour\n",
    "})\n",
    "request_create_processing = request_create_processing.reset_index()"
   ]
  },
  {
   "cell_type": "code",
   "execution_count": 56,
   "id": "c36ac614-91ef-4043-bc11-ca6cff304956",
   "metadata": {},
   "outputs": [
    {
     "data": {
      "image/png": "[encoded data removed]",
      "text/plain": [
       "<Figure size 1000x500 with 1 Axes>"
      ]
     },
     "metadata": {},
     "output_type": "display_data"
    }
   ],
   "source": [
    "request_create_processing.plot(x = \"index\", y = [\"Create\", \"Handling\"], kind = \"bar\", stacked=False, figsize = (10,5))\n",
    "plt.title(\"Creating vs handling [retail]\")\n",
    "plt.xlabel(\"Hour\")\n",
    "plt.ylabel(\"Request\")\n",
    "plt.tight_layout()\n",
    "plt.show()"
   ]
  },
  {
   "cell_type": "markdown",
   "id": "90852fc0-d435-4ee1-a3bc-cddbef616954",
   "metadata": {},
   "source": [
    "_Let’s check whether moderators take requests into processing after they are created, or whether they process requests starting from the earliest created ones._"
   ]
  },
  {
   "cell_type": "markdown",
   "id": "74f627a6-7749-40b5-b917-1a97ecc7637c",
   "metadata": {},
   "source": [
    "_We will create a table showing the average time between the moment the request was received and the moment it was taken into processing._"
   ]
  },
  {
   "cell_type": "markdown",
   "id": "47f3c15c-7f5b-4bb3-9ab4-17e20db8442f",
   "metadata": {},
   "source": [
    "_First, let’s look at the dataset for this week._"
   ]
  },
  {
   "cell_type": "code",
   "execution_count": 57,
   "id": "962c68a7-f84c-49d9-b706-85d7fc2a6888",
   "metadata": {},
   "outputs": [
    {
     "data": {
      "text/html": [
       "<div>\n",
       "<style scoped>\n",
       "    .dataframe tbody tr th:only-of-type {\n",
       "        vertical-align: middle;\n",
       "    }\n",
       "\n",
       "    .dataframe tbody tr th {\n",
       "        vertical-align: top;\n",
       "    }\n",
       "\n",
       "    .dataframe thead th {\n",
       "        text-align: right;\n",
       "    }\n",
       "</style>\n",
       "<table border=\"1\" class=\"dataframe\">\n",
       "  <thead>\n",
       "    <tr style=\"text-align: right;\">\n",
       "      <th></th>\n",
       "      <th>moderator</th>\n",
       "      <th>id_request</th>\n",
       "      <th>request_time</th>\n",
       "      <th>start_time</th>\n",
       "      <th>finish_time</th>\n",
       "      <th>team</th>\n",
       "      <th>time_to_proccess_min</th>\n",
       "      <th>processing_time_min</th>\n",
       "      <th>request_time_year_month</th>\n",
       "      <th>start_time_year_month</th>\n",
       "      <th>week</th>\n",
       "      <th>day_of_week_start_time</th>\n",
       "      <th>day_of_week_request</th>\n",
       "      <th>same_day_processed</th>\n",
       "      <th>within_working_hours</th>\n",
       "      <th>request_hour</th>\n",
       "      <th>start_hour</th>\n",
       "    </tr>\n",
       "  </thead>\n",
       "  <tbody>\n",
       "    <tr>\n",
       "      <th>7732</th>\n",
       "      <td>136</td>\n",
       "      <td>181272</td>\n",
       "      <td>2020-11-16 00:27:47</td>\n",
       "      <td>2020-11-16 07:46:32</td>\n",
       "      <td>2020-11-16 07:47:46</td>\n",
       "      <td>retail</td>\n",
       "      <td>438.750000</td>\n",
       "      <td>1.233333</td>\n",
       "      <td>2020-11</td>\n",
       "      <td>2020-11</td>\n",
       "      <td>47</td>\n",
       "      <td>Monday</td>\n",
       "      <td>Monday</td>\n",
       "      <td>True</td>\n",
       "      <td>0</td>\n",
       "      <td>0</td>\n",
       "      <td>7</td>\n",
       "    </tr>\n",
       "    <tr>\n",
       "      <th>7742</th>\n",
       "      <td>136</td>\n",
       "      <td>181303</td>\n",
       "      <td>2020-11-16 05:33:26</td>\n",
       "      <td>2020-11-16 07:31:53</td>\n",
       "      <td>2020-11-16 07:37:32</td>\n",
       "      <td>retail</td>\n",
       "      <td>118.450000</td>\n",
       "      <td>5.650000</td>\n",
       "      <td>2020-11</td>\n",
       "      <td>2020-11</td>\n",
       "      <td>47</td>\n",
       "      <td>Monday</td>\n",
       "      <td>Monday</td>\n",
       "      <td>True</td>\n",
       "      <td>0</td>\n",
       "      <td>5</td>\n",
       "      <td>7</td>\n",
       "    </tr>\n",
       "    <tr>\n",
       "      <th>7756</th>\n",
       "      <td>136</td>\n",
       "      <td>181319</td>\n",
       "      <td>2020-11-16 07:15:21</td>\n",
       "      <td>2020-11-16 07:47:48</td>\n",
       "      <td>2020-11-16 07:48:49</td>\n",
       "      <td>retail</td>\n",
       "      <td>32.450000</td>\n",
       "      <td>1.016667</td>\n",
       "      <td>2020-11</td>\n",
       "      <td>2020-11</td>\n",
       "      <td>47</td>\n",
       "      <td>Monday</td>\n",
       "      <td>Monday</td>\n",
       "      <td>True</td>\n",
       "      <td>1</td>\n",
       "      <td>7</td>\n",
       "      <td>7</td>\n",
       "    </tr>\n",
       "    <tr>\n",
       "      <th>7757</th>\n",
       "      <td>136</td>\n",
       "      <td>181320</td>\n",
       "      <td>2020-11-16 07:16:16</td>\n",
       "      <td>2020-11-16 07:48:50</td>\n",
       "      <td>2020-11-16 07:49:35</td>\n",
       "      <td>retail</td>\n",
       "      <td>32.566667</td>\n",
       "      <td>0.750000</td>\n",
       "      <td>2020-11</td>\n",
       "      <td>2020-11</td>\n",
       "      <td>47</td>\n",
       "      <td>Monday</td>\n",
       "      <td>Monday</td>\n",
       "      <td>True</td>\n",
       "      <td>1</td>\n",
       "      <td>7</td>\n",
       "      <td>7</td>\n",
       "    </tr>\n",
       "    <tr>\n",
       "      <th>7760</th>\n",
       "      <td>136</td>\n",
       "      <td>181326</td>\n",
       "      <td>2020-11-16 07:22:51</td>\n",
       "      <td>2020-11-16 07:27:53</td>\n",
       "      <td>2020-11-16 07:31:51</td>\n",
       "      <td>retail</td>\n",
       "      <td>5.033333</td>\n",
       "      <td>3.966667</td>\n",
       "      <td>2020-11</td>\n",
       "      <td>2020-11</td>\n",
       "      <td>47</td>\n",
       "      <td>Monday</td>\n",
       "      <td>Monday</td>\n",
       "      <td>True</td>\n",
       "      <td>1</td>\n",
       "      <td>7</td>\n",
       "      <td>7</td>\n",
       "    </tr>\n",
       "    <tr>\n",
       "      <th>7762</th>\n",
       "      <td>136</td>\n",
       "      <td>181329</td>\n",
       "      <td>2020-11-16 07:39:31</td>\n",
       "      <td>2020-11-16 07:49:36</td>\n",
       "      <td>2020-11-16 07:50:26</td>\n",
       "      <td>retail</td>\n",
       "      <td>10.083333</td>\n",
       "      <td>0.833333</td>\n",
       "      <td>2020-11</td>\n",
       "      <td>2020-11</td>\n",
       "      <td>47</td>\n",
       "      <td>Monday</td>\n",
       "      <td>Monday</td>\n",
       "      <td>True</td>\n",
       "      <td>1</td>\n",
       "      <td>7</td>\n",
       "      <td>7</td>\n",
       "    </tr>\n",
       "    <tr>\n",
       "      <th>7763</th>\n",
       "      <td>186</td>\n",
       "      <td>181330</td>\n",
       "      <td>2020-11-16 07:48:26</td>\n",
       "      <td>2020-11-29 19:13:10</td>\n",
       "      <td>2020-11-29 19:15:29</td>\n",
       "      <td>retail</td>\n",
       "      <td>19404.733333</td>\n",
       "      <td>2.316667</td>\n",
       "      <td>2020-11</td>\n",
       "      <td>2020-11</td>\n",
       "      <td>48</td>\n",
       "      <td>Sunday</td>\n",
       "      <td>Monday</td>\n",
       "      <td>False</td>\n",
       "      <td>1</td>\n",
       "      <td>7</td>\n",
       "      <td>19</td>\n",
       "    </tr>\n",
       "    <tr>\n",
       "      <th>7764</th>\n",
       "      <td>136</td>\n",
       "      <td>181331</td>\n",
       "      <td>2020-11-16 07:48:31</td>\n",
       "      <td>2020-11-16 07:50:39</td>\n",
       "      <td>2020-11-16 07:51:03</td>\n",
       "      <td>retail</td>\n",
       "      <td>2.133333</td>\n",
       "      <td>0.400000</td>\n",
       "      <td>2020-11</td>\n",
       "      <td>2020-11</td>\n",
       "      <td>47</td>\n",
       "      <td>Monday</td>\n",
       "      <td>Monday</td>\n",
       "      <td>True</td>\n",
       "      <td>1</td>\n",
       "      <td>7</td>\n",
       "      <td>7</td>\n",
       "    </tr>\n",
       "    <tr>\n",
       "      <th>7766</th>\n",
       "      <td>172</td>\n",
       "      <td>181334</td>\n",
       "      <td>2020-11-16 07:53:00</td>\n",
       "      <td>2020-11-16 09:01:32</td>\n",
       "      <td>2020-11-16 09:02:48</td>\n",
       "      <td>retail</td>\n",
       "      <td>68.533333</td>\n",
       "      <td>1.266667</td>\n",
       "      <td>2020-11</td>\n",
       "      <td>2020-11</td>\n",
       "      <td>47</td>\n",
       "      <td>Monday</td>\n",
       "      <td>Monday</td>\n",
       "      <td>True</td>\n",
       "      <td>1</td>\n",
       "      <td>7</td>\n",
       "      <td>9</td>\n",
       "    </tr>\n",
       "    <tr>\n",
       "      <th>7770</th>\n",
       "      <td>172</td>\n",
       "      <td>181342</td>\n",
       "      <td>2020-11-16 08:31:10</td>\n",
       "      <td>2020-11-16 09:05:41</td>\n",
       "      <td>2020-11-16 09:07:43</td>\n",
       "      <td>retail</td>\n",
       "      <td>34.516667</td>\n",
       "      <td>2.033333</td>\n",
       "      <td>2020-11</td>\n",
       "      <td>2020-11</td>\n",
       "      <td>47</td>\n",
       "      <td>Monday</td>\n",
       "      <td>Monday</td>\n",
       "      <td>True</td>\n",
       "      <td>1</td>\n",
       "      <td>8</td>\n",
       "      <td>9</td>\n",
       "    </tr>\n",
       "  </tbody>\n",
       "</table>\n",
       "</div>"
      ],
      "text/plain": [
       "      moderator  id_request        request_time          start_time  \\\n",
       "7732        136      181272 2020-11-16 00:27:47 2020-11-16 07:46:32   \n",
       "7742        136      181303 2020-11-16 05:33:26 2020-11-16 07:31:53   \n",
       "7756        136      181319 2020-11-16 07:15:21 2020-11-16 07:47:48   \n",
       "7757        136      181320 2020-11-16 07:16:16 2020-11-16 07:48:50   \n",
       "7760        136      181326 2020-11-16 07:22:51 2020-11-16 07:27:53   \n",
       "7762        136      181329 2020-11-16 07:39:31 2020-11-16 07:49:36   \n",
       "7763        186      181330 2020-11-16 07:48:26 2020-11-29 19:13:10   \n",
       "7764        136      181331 2020-11-16 07:48:31 2020-11-16 07:50:39   \n",
       "7766        172      181334 2020-11-16 07:53:00 2020-11-16 09:01:32   \n",
       "7770        172      181342 2020-11-16 08:31:10 2020-11-16 09:05:41   \n",
       "\n",
       "             finish_time    team  time_to_proccess_min  processing_time_min  \\\n",
       "7732 2020-11-16 07:47:46  retail            438.750000             1.233333   \n",
       "7742 2020-11-16 07:37:32  retail            118.450000             5.650000   \n",
       "7756 2020-11-16 07:48:49  retail             32.450000             1.016667   \n",
       "7757 2020-11-16 07:49:35  retail             32.566667             0.750000   \n",
       "7760 2020-11-16 07:31:51  retail              5.033333             3.966667   \n",
       "7762 2020-11-16 07:50:26  retail             10.083333             0.833333   \n",
       "7763 2020-11-29 19:15:29  retail          19404.733333             2.316667   \n",
       "7764 2020-11-16 07:51:03  retail              2.133333             0.400000   \n",
       "7766 2020-11-16 09:02:48  retail             68.533333             1.266667   \n",
       "7770 2020-11-16 09:07:43  retail             34.516667             2.033333   \n",
       "\n",
       "     request_time_year_month start_time_year_month  week  \\\n",
       "7732                 2020-11               2020-11    47   \n",
       "7742                 2020-11               2020-11    47   \n",
       "7756                 2020-11               2020-11    47   \n",
       "7757                 2020-11               2020-11    47   \n",
       "7760                 2020-11               2020-11    47   \n",
       "7762                 2020-11               2020-11    47   \n",
       "7763                 2020-11               2020-11    48   \n",
       "7764                 2020-11               2020-11    47   \n",
       "7766                 2020-11               2020-11    47   \n",
       "7770                 2020-11               2020-11    47   \n",
       "\n",
       "     day_of_week_start_time day_of_week_request  same_day_processed  \\\n",
       "7732                 Monday              Monday                True   \n",
       "7742                 Monday              Monday                True   \n",
       "7756                 Monday              Monday                True   \n",
       "7757                 Monday              Monday                True   \n",
       "7760                 Monday              Monday                True   \n",
       "7762                 Monday              Monday                True   \n",
       "7763                 Sunday              Monday               False   \n",
       "7764                 Monday              Monday                True   \n",
       "7766                 Monday              Monday                True   \n",
       "7770                 Monday              Monday                True   \n",
       "\n",
       "      within_working_hours  request_hour  start_hour  \n",
       "7732                     0             0           7  \n",
       "7742                     0             5           7  \n",
       "7756                     1             7           7  \n",
       "7757                     1             7           7  \n",
       "7760                     1             7           7  \n",
       "7762                     1             7           7  \n",
       "7763                     1             7          19  \n",
       "7764                     1             7           7  \n",
       "7766                     1             7           9  \n",
       "7770                     1             8           9  "
      ]
     },
     "execution_count": 57,
     "metadata": {},
     "output_type": "execute_result"
    }
   ],
   "source": [
    "df_q4_filterd_one_week_retail.head(10)"
   ]
  },
  {
   "cell_type": "markdown",
   "id": "19869d70-63d8-448d-8bc9-bdbf61908983",
   "metadata": {},
   "source": [
    "**We can see that agents begin processing older requests while new ones are coming in, meaning that new requests are not given priority.**"
   ]
  },
  {
   "cell_type": "code",
   "execution_count": 58,
   "id": "99a029ba-ba86-42b4-85fe-7bbf7fd8e2f3",
   "metadata": {},
   "outputs": [],
   "source": [
    "pivot_avg_delay = df_q4_filterd_one_week_retail.pivot_table(\n",
    "    index=\"day_of_week_request\",\n",
    "    columns=\"moderator\",\n",
    "    values=\"time_to_proccess_min\",\n",
    "    aggfunc=\"mean\"\n",
    ")"
   ]
  },
  {
   "cell_type": "code",
   "execution_count": 59,
   "id": "fab14bb5-3663-4422-98b5-fc57ff004199",
   "metadata": {},
   "outputs": [
    {
     "data": {
      "image/png": "[encoded data removed]",
      "text/plain": [
       "<Figure size 1200x600 with 2 Axes>"
      ]
     },
     "metadata": {},
     "output_type": "display_data"
    }
   ],
   "source": [
    "plt.figure(figsize=(12, 6))\n",
    "sns.heatmap(pivot_avg_delay, annot=True, fmt=\".1f\", cmap=\"YlOrRd\")\n",
    "\n",
    "plt.title(\"Average delay time [retail]\")\n",
    "plt.xlabel(\"Moderator\")\n",
    "plt.ylabel(\"Day of a week\")\n",
    "plt.tight_layout()\n",
    "plt.show()"
   ]
  },
  {
   "cell_type": "code",
   "execution_count": 60,
   "id": "472c3122-2ec8-4a3a-b88c-49c1c95b6808",
   "metadata": {},
   "outputs": [
    {
     "name": "stdout",
     "output_type": "stream",
     "text": [
      "day_of_week_request\n",
      "Monday       303.047111\n",
      "Tuesday       31.592039\n",
      "Wednesday     88.718472\n",
      "Thursday     197.738106\n",
      "Friday       110.895391\n",
      "Saturday     108.395295\n",
      "Sunday       144.885879\n",
      "dtype: float64\n"
     ]
    }
   ],
   "source": [
    "pivot_cleaned = pivot_avg_delay.mask(pivot_avg_delay > 1000)\n",
    "avg_delay_by_day_clean = pivot_cleaned.mean(axis=1, skipna=True)\n",
    "print(avg_delay_by_day_clean)"
   ]
  },
  {
   "cell_type": "markdown",
   "id": "60e683a3-bf07-439d-8977-40494cb3ee9b",
   "metadata": {},
   "source": [
    "_We can see that the average processing time per day is more than an hour, except for Tuesday._  \n",
    "_The agents who worked on that day processed all requests on the same day, with an average request pick-up time of 31 minutes._  \n",
    "_At the same time, on Saturday more people were working, but the average pick-up time also increased — even though there were fewer requests than on Tuesday._  \n",
    "_This means that some agents perform significantly worse than others._"
   ]
  },
  {
   "cell_type": "markdown",
   "id": "df4d91db-03d6-4530-93bd-07556c4571b5",
   "metadata": {},
   "source": [
    "_Finally, let’s look at the distribution of the number of requests per employee._"
   ]
  },
  {
   "cell_type": "code",
   "execution_count": 61,
   "id": "2558e1c9-8b24-4f29-adad-bc0e9ff8c793",
   "metadata": {},
   "outputs": [
    {
     "data": {
      "image/png": "[encoded data removed]",
      "text/plain": [
       "<Figure size 1000x600 with 1 Axes>"
      ]
     },
     "metadata": {},
     "output_type": "display_data"
    }
   ],
   "source": [
    "df_retail_requests_per_moderator = df_q4[df_q4['team'] == 'retail'].groupby(\"moderator\")[\"id_request\"].count()\n",
    "\n",
    "fig, ax = plt.subplots(figsize=(10,6))\n",
    "\n",
    "sns.barplot(x = df_retail_requests_per_moderator.index, y = df_retail_requests_per_moderator.values)\n",
    "\n",
    "plt.xlabel(\"moderator id\")\n",
    "plt.ylabel(\"amount of requests\")\n",
    "plt.title(\"Requests per moderator [retail]\")\n",
    "plt.tight_layout()\n",
    "plt.show()"
   ]
  },
  {
   "cell_type": "code",
   "execution_count": 62,
   "id": "851adebf-7b7f-4bf0-a3d5-d766d63140d0",
   "metadata": {},
   "outputs": [
    {
     "name": "stdout",
     "output_type": "stream",
     "text": [
      "moderator\n",
      "110     1\n",
      "114    60\n",
      "133     2\n",
      "134     8\n",
      "138     1\n",
      "150    16\n",
      "Name: id_request, dtype: int64\n"
     ]
    }
   ],
   "source": [
    "mask = df_retail_requests_per_moderator < 100\n",
    "print(df_retail_requests_per_moderator[mask])"
   ]
  },
  {
   "cell_type": "markdown",
   "id": "437a1c24-7e92-4781-bd9f-e67245fbf98a",
   "metadata": {},
   "source": [
    "_Employees with the fewest requests completed._"
   ]
  },
  {
   "cell_type": "code",
   "execution_count": 63,
   "id": "6046cd95-9aa0-4078-8c4d-2cdad33a30d4",
   "metadata": {},
   "outputs": [
    {
     "data": {
      "text/plain": [
       "moderator\n",
       "117    1251\n",
       "186    1342\n",
       "Name: id_request, dtype: int64"
      ]
     },
     "execution_count": 63,
     "metadata": {},
     "output_type": "execute_result"
    }
   ],
   "source": [
    "mask = df_retail_requests_per_moderator > 1000\n",
    "df_retail_requests_per_moderator[mask]"
   ]
  },
  {
   "cell_type": "markdown",
   "id": "22422b54-c237-4d01-8ec2-3b9f276c3400",
   "metadata": {},
   "source": [
    "_Employees worth noting — they completed the highest number of requests._  \n",
    "_According to the Average delay time chart, their request processing time is higher on certain days, which may indicate that these employees are the ones handling delayed requests, in addition to regular ones._"
   ]
  },
  {
   "cell_type": "markdown",
   "id": "8b55b897-8208-4a60-8d73-b585e4f55aaa",
   "metadata": {},
   "source": [
    "# Wholesale team"
   ]
  },
  {
   "cell_type": "markdown",
   "id": "8f514fdf-528a-4ff2-86f0-e8eda2484612",
   "metadata": {},
   "source": [
    "_Let’s repeat the same analysis for the wholesale support team._"
   ]
  },
  {
   "cell_type": "code",
   "execution_count": 64,
   "id": "6ca301e3-7301-4ffb-9b9d-351304f76226",
   "metadata": {},
   "outputs": [],
   "source": [
    "df_q4_filterd_one_week_wholesale = df_q4.loc[\n",
    "    (df_q4[\"request_time\"] >= \"2020-11-16\") &\n",
    "    (df_q4[\"request_time\"] < \"2020-11-23\") &\n",
    "    (df_q4[\"team\"] == \"wholesale\")\n",
    "]\n",
    "\n",
    "df_q4_filterd_one_week_wholesale[\"day_of_week_start_time\"] = df_q4_filterd_one_week_wholesale[\"start_time\"].dt.day_name()\n",
    "\n",
    "\n",
    "df_q4_filterd_one_week_wholesale[\"day_of_week_start_time\"] = pd.Categorical(\n",
    "                                                                df_q4_filterd_one_week_wholesale[\"day_of_week_start_time\"],\n",
    "                                                                categories=days_order,\n",
    "                                                                ordered=True\n",
    "                                                            )\n",
    "\n",
    "start_of_shift_wholesale = df_q4_filterd_one_week_wholesale.groupby(['moderator', 'day_of_week_start_time'])['start_time'].min()\n",
    "end_of_shift_wholesale = df_q4_filterd_one_week_wholesale.groupby(['moderator', 'day_of_week_start_time'])['start_time'].max()\n",
    "\n",
    "schedule_wholesale = pd.DataFrame({\n",
    "    \"First request\": start_of_shift_wholesale,\n",
    "    \"Last request\": end_of_shift_wholesale\n",
    "})\n",
    "\n",
    "schedule_wholesale = schedule_wholesale.dropna()"
   ]
  },
  {
   "cell_type": "code",
   "execution_count": 65,
   "id": "3a2962cd-38fb-47fa-9f60-5e48b8b1c062",
   "metadata": {},
   "outputs": [],
   "source": [
    "schedule_wholesale[\"shift_duration_hours\"] = (schedule_wholesale[\"Last request\"] - schedule_wholesale[\"First request\"]).dt.total_seconds() / 3600\n",
    "\n",
    "#delete outlier\n",
    "threshold = schedule_wholesale.quantile(0.99)\n",
    "schedule_wholesale = schedule_wholesale[schedule_wholesale <= threshold]\n",
    "\n",
    "schedule_wholesale = schedule_wholesale.reset_index()"
   ]
  },
  {
   "cell_type": "code",
   "execution_count": 66,
   "id": "30bfd414-6313-4fa4-9e45-51af4b251dc0",
   "metadata": {
    "scrolled": true
   },
   "outputs": [
    {
     "data": {
      "text/html": [
       "<div>\n",
       "<style scoped>\n",
       "    .dataframe tbody tr th:only-of-type {\n",
       "        vertical-align: middle;\n",
       "    }\n",
       "\n",
       "    .dataframe tbody tr th {\n",
       "        vertical-align: top;\n",
       "    }\n",
       "\n",
       "    .dataframe thead th {\n",
       "        text-align: right;\n",
       "    }\n",
       "</style>\n",
       "<table border=\"1\" class=\"dataframe\">\n",
       "  <thead>\n",
       "    <tr style=\"text-align: right;\">\n",
       "      <th></th>\n",
       "      <th>moderator</th>\n",
       "      <th>day_of_week_start_time</th>\n",
       "      <th>First request</th>\n",
       "      <th>Last request</th>\n",
       "      <th>shift_duration_hours</th>\n",
       "    </tr>\n",
       "  </thead>\n",
       "  <tbody>\n",
       "    <tr>\n",
       "      <th>0</th>\n",
       "      <td>102</td>\n",
       "      <td>Monday</td>\n",
       "      <td>2020-11-16 12:42:15</td>\n",
       "      <td>2020-11-16 14:55:22</td>\n",
       "      <td>2.218611</td>\n",
       "    </tr>\n",
       "    <tr>\n",
       "      <th>17</th>\n",
       "      <td>125</td>\n",
       "      <td>Monday</td>\n",
       "      <td>2020-11-16 20:58:09</td>\n",
       "      <td>2020-11-16 20:58:09</td>\n",
       "      <td>0.000000</td>\n",
       "    </tr>\n",
       "    <tr>\n",
       "      <th>24</th>\n",
       "      <td>149</td>\n",
       "      <td>Monday</td>\n",
       "      <td>2020-11-16 10:59:05</td>\n",
       "      <td>2020-11-16 11:03:25</td>\n",
       "      <td>0.072222</td>\n",
       "    </tr>\n",
       "    <tr>\n",
       "      <th>15</th>\n",
       "      <td>123</td>\n",
       "      <td>Monday</td>\n",
       "      <td>2020-11-16 07:07:11</td>\n",
       "      <td>2020-11-16 07:51:40</td>\n",
       "      <td>0.741389</td>\n",
       "    </tr>\n",
       "    <tr>\n",
       "      <th>27</th>\n",
       "      <td>153</td>\n",
       "      <td>Monday</td>\n",
       "      <td>NaT</td>\n",
       "      <td>2020-11-23 08:06:55</td>\n",
       "      <td>1.075833</td>\n",
       "    </tr>\n",
       "    <tr>\n",
       "      <th>11</th>\n",
       "      <td>122</td>\n",
       "      <td>Monday</td>\n",
       "      <td>2020-11-23 07:02:14</td>\n",
       "      <td>2020-11-23 07:02:14</td>\n",
       "      <td>0.000000</td>\n",
       "    </tr>\n",
       "    <tr>\n",
       "      <th>7</th>\n",
       "      <td>112</td>\n",
       "      <td>Monday</td>\n",
       "      <td>2020-11-16 07:04:55</td>\n",
       "      <td>2020-11-16 12:39:08</td>\n",
       "      <td>5.570278</td>\n",
       "    </tr>\n",
       "    <tr>\n",
       "      <th>30</th>\n",
       "      <td>170</td>\n",
       "      <td>Monday</td>\n",
       "      <td>2020-11-16 07:19:27</td>\n",
       "      <td>2020-11-16 07:52:58</td>\n",
       "      <td>0.558611</td>\n",
       "    </tr>\n",
       "    <tr>\n",
       "      <th>38</th>\n",
       "      <td>181</td>\n",
       "      <td>Monday</td>\n",
       "      <td>2020-11-16 08:59:22</td>\n",
       "      <td>2020-11-16 09:01:22</td>\n",
       "      <td>0.033333</td>\n",
       "    </tr>\n",
       "    <tr>\n",
       "      <th>41</th>\n",
       "      <td>188</td>\n",
       "      <td>Monday</td>\n",
       "      <td>2020-11-16 15:03:29</td>\n",
       "      <td>2020-11-16 17:17:14</td>\n",
       "      <td>2.229167</td>\n",
       "    </tr>\n",
       "    <tr>\n",
       "      <th>31</th>\n",
       "      <td>170</td>\n",
       "      <td>Tuesday</td>\n",
       "      <td>2020-11-17 08:32:25</td>\n",
       "      <td>2020-11-17 08:47:05</td>\n",
       "      <td>0.244444</td>\n",
       "    </tr>\n",
       "    <tr>\n",
       "      <th>39</th>\n",
       "      <td>181</td>\n",
       "      <td>Tuesday</td>\n",
       "      <td>2020-11-17 07:36:40</td>\n",
       "      <td>2020-11-17 09:57:05</td>\n",
       "      <td>2.340278</td>\n",
       "    </tr>\n",
       "    <tr>\n",
       "      <th>1</th>\n",
       "      <td>102</td>\n",
       "      <td>Tuesday</td>\n",
       "      <td>2020-11-17 13:00:39</td>\n",
       "      <td>NaT</td>\n",
       "      <td>NaN</td>\n",
       "    </tr>\n",
       "    <tr>\n",
       "      <th>18</th>\n",
       "      <td>125</td>\n",
       "      <td>Tuesday</td>\n",
       "      <td>2020-11-17 17:29:12</td>\n",
       "      <td>2020-11-17 17:29:12</td>\n",
       "      <td>0.000000</td>\n",
       "    </tr>\n",
       "    <tr>\n",
       "      <th>33</th>\n",
       "      <td>175</td>\n",
       "      <td>Tuesday</td>\n",
       "      <td>2020-11-17 16:31:48</td>\n",
       "      <td>2020-11-17 16:54:43</td>\n",
       "      <td>0.381944</td>\n",
       "    </tr>\n",
       "    <tr>\n",
       "      <th>8</th>\n",
       "      <td>116</td>\n",
       "      <td>Wednesday</td>\n",
       "      <td>2020-11-18 13:01:49</td>\n",
       "      <td>2020-11-18 13:04:50</td>\n",
       "      <td>0.050278</td>\n",
       "    </tr>\n",
       "    <tr>\n",
       "      <th>20</th>\n",
       "      <td>128</td>\n",
       "      <td>Wednesday</td>\n",
       "      <td>2020-11-18 13:30:34</td>\n",
       "      <td>2020-11-18 13:37:55</td>\n",
       "      <td>0.122500</td>\n",
       "    </tr>\n",
       "    <tr>\n",
       "      <th>36</th>\n",
       "      <td>180</td>\n",
       "      <td>Wednesday</td>\n",
       "      <td>2020-11-18 16:04:26</td>\n",
       "      <td>2020-11-18 17:00:11</td>\n",
       "      <td>0.929167</td>\n",
       "    </tr>\n",
       "    <tr>\n",
       "      <th>12</th>\n",
       "      <td>122</td>\n",
       "      <td>Wednesday</td>\n",
       "      <td>2020-11-18 09:19:09</td>\n",
       "      <td>2020-11-18 10:27:33</td>\n",
       "      <td>1.140000</td>\n",
       "    </tr>\n",
       "    <tr>\n",
       "      <th>28</th>\n",
       "      <td>153</td>\n",
       "      <td>Wednesday</td>\n",
       "      <td>2020-11-18 07:11:38</td>\n",
       "      <td>2020-11-18 08:47:51</td>\n",
       "      <td>1.603611</td>\n",
       "    </tr>\n",
       "    <tr>\n",
       "      <th>4</th>\n",
       "      <td>103</td>\n",
       "      <td>Wednesday</td>\n",
       "      <td>2020-11-18 21:15:05</td>\n",
       "      <td>2020-11-18 21:16:13</td>\n",
       "      <td>0.018889</td>\n",
       "    </tr>\n",
       "    <tr>\n",
       "      <th>22</th>\n",
       "      <td>146</td>\n",
       "      <td>Wednesday</td>\n",
       "      <td>2020-11-18 07:02:01</td>\n",
       "      <td>2020-11-18 08:13:17</td>\n",
       "      <td>1.187778</td>\n",
       "    </tr>\n",
       "    <tr>\n",
       "      <th>21</th>\n",
       "      <td>128</td>\n",
       "      <td>Thursday</td>\n",
       "      <td>2020-11-19 07:01:38</td>\n",
       "      <td>2020-11-19 08:52:29</td>\n",
       "      <td>1.847500</td>\n",
       "    </tr>\n",
       "    <tr>\n",
       "      <th>13</th>\n",
       "      <td>122</td>\n",
       "      <td>Thursday</td>\n",
       "      <td>2020-11-19 09:44:57</td>\n",
       "      <td>2020-11-19 13:10:15</td>\n",
       "      <td>3.421667</td>\n",
       "    </tr>\n",
       "    <tr>\n",
       "      <th>9</th>\n",
       "      <td>116</td>\n",
       "      <td>Thursday</td>\n",
       "      <td>2020-11-19 08:43:53</td>\n",
       "      <td>2020-11-19 13:12:17</td>\n",
       "      <td>4.473333</td>\n",
       "    </tr>\n",
       "    <tr>\n",
       "      <th>5</th>\n",
       "      <td>103</td>\n",
       "      <td>Thursday</td>\n",
       "      <td>2020-11-19 15:01:48</td>\n",
       "      <td>2020-11-19 15:46:58</td>\n",
       "      <td>0.752778</td>\n",
       "    </tr>\n",
       "    <tr>\n",
       "      <th>32</th>\n",
       "      <td>170</td>\n",
       "      <td>Friday</td>\n",
       "      <td>2020-11-20 07:00:15</td>\n",
       "      <td>2020-11-20 08:23:03</td>\n",
       "      <td>1.380000</td>\n",
       "    </tr>\n",
       "    <tr>\n",
       "      <th>16</th>\n",
       "      <td>123</td>\n",
       "      <td>Friday</td>\n",
       "      <td>2020-11-20 09:01:54</td>\n",
       "      <td>2020-11-20 12:58:06</td>\n",
       "      <td>3.936667</td>\n",
       "    </tr>\n",
       "    <tr>\n",
       "      <th>25</th>\n",
       "      <td>149</td>\n",
       "      <td>Friday</td>\n",
       "      <td>2020-11-20 07:16:55</td>\n",
       "      <td>2020-11-20 14:33:39</td>\n",
       "      <td>7.278889</td>\n",
       "    </tr>\n",
       "    <tr>\n",
       "      <th>2</th>\n",
       "      <td>102</td>\n",
       "      <td>Friday</td>\n",
       "      <td>2020-11-20 07:07:59</td>\n",
       "      <td>2020-11-20 09:00:07</td>\n",
       "      <td>1.868889</td>\n",
       "    </tr>\n",
       "    <tr>\n",
       "      <th>19</th>\n",
       "      <td>125</td>\n",
       "      <td>Friday</td>\n",
       "      <td>2020-11-20 16:13:46</td>\n",
       "      <td>2020-11-20 20:52:49</td>\n",
       "      <td>4.650833</td>\n",
       "    </tr>\n",
       "    <tr>\n",
       "      <th>34</th>\n",
       "      <td>175</td>\n",
       "      <td>Friday</td>\n",
       "      <td>2020-11-20 22:55:00</td>\n",
       "      <td>2020-11-20 22:55:00</td>\n",
       "      <td>0.000000</td>\n",
       "    </tr>\n",
       "    <tr>\n",
       "      <th>26</th>\n",
       "      <td>149</td>\n",
       "      <td>Saturday</td>\n",
       "      <td>2020-11-21 07:33:20</td>\n",
       "      <td>2020-11-21 12:37:28</td>\n",
       "      <td>5.068889</td>\n",
       "    </tr>\n",
       "    <tr>\n",
       "      <th>40</th>\n",
       "      <td>181</td>\n",
       "      <td>Saturday</td>\n",
       "      <td>2020-11-21 09:06:20</td>\n",
       "      <td>2020-11-21 10:49:49</td>\n",
       "      <td>1.724722</td>\n",
       "    </tr>\n",
       "    <tr>\n",
       "      <th>3</th>\n",
       "      <td>102</td>\n",
       "      <td>Saturday</td>\n",
       "      <td>2020-11-21 07:18:33</td>\n",
       "      <td>2020-11-21 14:50:36</td>\n",
       "      <td>7.534167</td>\n",
       "    </tr>\n",
       "    <tr>\n",
       "      <th>35</th>\n",
       "      <td>175</td>\n",
       "      <td>Saturday</td>\n",
       "      <td>2020-11-21 17:53:36</td>\n",
       "      <td>2020-11-21 18:34:44</td>\n",
       "      <td>0.685556</td>\n",
       "    </tr>\n",
       "    <tr>\n",
       "      <th>37</th>\n",
       "      <td>180</td>\n",
       "      <td>Sunday</td>\n",
       "      <td>2020-11-22 19:18:51</td>\n",
       "      <td>2020-11-22 20:34:48</td>\n",
       "      <td>1.265833</td>\n",
       "    </tr>\n",
       "    <tr>\n",
       "      <th>23</th>\n",
       "      <td>146</td>\n",
       "      <td>Sunday</td>\n",
       "      <td>2020-11-22 08:54:35</td>\n",
       "      <td>2020-11-22 11:19:11</td>\n",
       "      <td>2.410000</td>\n",
       "    </tr>\n",
       "    <tr>\n",
       "      <th>10</th>\n",
       "      <td>116</td>\n",
       "      <td>Sunday</td>\n",
       "      <td>2020-11-22 11:23:17</td>\n",
       "      <td>2020-11-22 12:57:34</td>\n",
       "      <td>1.571389</td>\n",
       "    </tr>\n",
       "    <tr>\n",
       "      <th>29</th>\n",
       "      <td>153</td>\n",
       "      <td>Sunday</td>\n",
       "      <td>2020-11-22 07:47:58</td>\n",
       "      <td>2020-11-22 13:16:50</td>\n",
       "      <td>5.481111</td>\n",
       "    </tr>\n",
       "    <tr>\n",
       "      <th>14</th>\n",
       "      <td>122</td>\n",
       "      <td>Sunday</td>\n",
       "      <td>2020-11-22 07:26:34</td>\n",
       "      <td>2020-11-22 12:55:42</td>\n",
       "      <td>5.485556</td>\n",
       "    </tr>\n",
       "    <tr>\n",
       "      <th>6</th>\n",
       "      <td>103</td>\n",
       "      <td>Sunday</td>\n",
       "      <td>2020-11-22 15:05:35</td>\n",
       "      <td>2020-11-22 18:52:58</td>\n",
       "      <td>3.789722</td>\n",
       "    </tr>\n",
       "    <tr>\n",
       "      <th>42</th>\n",
       "      <td>188</td>\n",
       "      <td>Sunday</td>\n",
       "      <td>2020-11-22 21:11:13</td>\n",
       "      <td>2020-11-22 22:38:12</td>\n",
       "      <td>1.449722</td>\n",
       "    </tr>\n",
       "  </tbody>\n",
       "</table>\n",
       "</div>"
      ],
      "text/plain": [
       "    moderator day_of_week_start_time       First request        Last request  \\\n",
       "0         102                 Monday 2020-11-16 12:42:15 2020-11-16 14:55:22   \n",
       "17        125                 Monday 2020-11-16 20:58:09 2020-11-16 20:58:09   \n",
       "24        149                 Monday 2020-11-16 10:59:05 2020-11-16 11:03:25   \n",
       "15        123                 Monday 2020-11-16 07:07:11 2020-11-16 07:51:40   \n",
       "27        153                 Monday                 NaT 2020-11-23 08:06:55   \n",
       "11        122                 Monday 2020-11-23 07:02:14 2020-11-23 07:02:14   \n",
       "7         112                 Monday 2020-11-16 07:04:55 2020-11-16 12:39:08   \n",
       "30        170                 Monday 2020-11-16 07:19:27 2020-11-16 07:52:58   \n",
       "38        181                 Monday 2020-11-16 08:59:22 2020-11-16 09:01:22   \n",
       "41        188                 Monday 2020-11-16 15:03:29 2020-11-16 17:17:14   \n",
       "31        170                Tuesday 2020-11-17 08:32:25 2020-11-17 08:47:05   \n",
       "39        181                Tuesday 2020-11-17 07:36:40 2020-11-17 09:57:05   \n",
       "1         102                Tuesday 2020-11-17 13:00:39                 NaT   \n",
       "18        125                Tuesday 2020-11-17 17:29:12 2020-11-17 17:29:12   \n",
       "33        175                Tuesday 2020-11-17 16:31:48 2020-11-17 16:54:43   \n",
       "8         116              Wednesday 2020-11-18 13:01:49 2020-11-18 13:04:50   \n",
       "20        128              Wednesday 2020-11-18 13:30:34 2020-11-18 13:37:55   \n",
       "36        180              Wednesday 2020-11-18 16:04:26 2020-11-18 17:00:11   \n",
       "12        122              Wednesday 2020-11-18 09:19:09 2020-11-18 10:27:33   \n",
       "28        153              Wednesday 2020-11-18 07:11:38 2020-11-18 08:47:51   \n",
       "4         103              Wednesday 2020-11-18 21:15:05 2020-11-18 21:16:13   \n",
       "22        146              Wednesday 2020-11-18 07:02:01 2020-11-18 08:13:17   \n",
       "21        128               Thursday 2020-11-19 07:01:38 2020-11-19 08:52:29   \n",
       "13        122               Thursday 2020-11-19 09:44:57 2020-11-19 13:10:15   \n",
       "9         116               Thursday 2020-11-19 08:43:53 2020-11-19 13:12:17   \n",
       "5         103               Thursday 2020-11-19 15:01:48 2020-11-19 15:46:58   \n",
       "32        170                 Friday 2020-11-20 07:00:15 2020-11-20 08:23:03   \n",
       "16        123                 Friday 2020-11-20 09:01:54 2020-11-20 12:58:06   \n",
       "25        149                 Friday 2020-11-20 07:16:55 2020-11-20 14:33:39   \n",
       "2         102                 Friday 2020-11-20 07:07:59 2020-11-20 09:00:07   \n",
       "19        125                 Friday 2020-11-20 16:13:46 2020-11-20 20:52:49   \n",
       "34        175                 Friday 2020-11-20 22:55:00 2020-11-20 22:55:00   \n",
       "26        149               Saturday 2020-11-21 07:33:20 2020-11-21 12:37:28   \n",
       "40        181               Saturday 2020-11-21 09:06:20 2020-11-21 10:49:49   \n",
       "3         102               Saturday 2020-11-21 07:18:33 2020-11-21 14:50:36   \n",
       "35        175               Saturday 2020-11-21 17:53:36 2020-11-21 18:34:44   \n",
       "37        180                 Sunday 2020-11-22 19:18:51 2020-11-22 20:34:48   \n",
       "23        146                 Sunday 2020-11-22 08:54:35 2020-11-22 11:19:11   \n",
       "10        116                 Sunday 2020-11-22 11:23:17 2020-11-22 12:57:34   \n",
       "29        153                 Sunday 2020-11-22 07:47:58 2020-11-22 13:16:50   \n",
       "14        122                 Sunday 2020-11-22 07:26:34 2020-11-22 12:55:42   \n",
       "6         103                 Sunday 2020-11-22 15:05:35 2020-11-22 18:52:58   \n",
       "42        188                 Sunday 2020-11-22 21:11:13 2020-11-22 22:38:12   \n",
       "\n",
       "    shift_duration_hours  \n",
       "0               2.218611  \n",
       "17              0.000000  \n",
       "24              0.072222  \n",
       "15              0.741389  \n",
       "27              1.075833  \n",
       "11              0.000000  \n",
       "7               5.570278  \n",
       "30              0.558611  \n",
       "38              0.033333  \n",
       "41              2.229167  \n",
       "31              0.244444  \n",
       "39              2.340278  \n",
       "1                    NaN  \n",
       "18              0.000000  \n",
       "33              0.381944  \n",
       "8               0.050278  \n",
       "20              0.122500  \n",
       "36              0.929167  \n",
       "12              1.140000  \n",
       "28              1.603611  \n",
       "4               0.018889  \n",
       "22              1.187778  \n",
       "21              1.847500  \n",
       "13              3.421667  \n",
       "9               4.473333  \n",
       "5               0.752778  \n",
       "32              1.380000  \n",
       "16              3.936667  \n",
       "25              7.278889  \n",
       "2               1.868889  \n",
       "19              4.650833  \n",
       "34              0.000000  \n",
       "26              5.068889  \n",
       "40              1.724722  \n",
       "3               7.534167  \n",
       "35              0.685556  \n",
       "37              1.265833  \n",
       "23              2.410000  \n",
       "10              1.571389  \n",
       "29              5.481111  \n",
       "14              5.485556  \n",
       "6               3.789722  \n",
       "42              1.449722  "
      ]
     },
     "execution_count": 66,
     "metadata": {},
     "output_type": "execute_result"
    }
   ],
   "source": [
    "schedule_wholesale.sort_values(by = \"day_of_week_start_time\")"
   ]
  },
  {
   "cell_type": "code",
   "execution_count": 67,
   "id": "4e489b90-ed62-46bf-95e5-86b28f8dfc13",
   "metadata": {},
   "outputs": [],
   "source": [
    "pivot_table_wholesale = schedule_wholesale.pivot(\n",
    "    index=\"moderator\", \n",
    "    columns=\"day_of_week_start_time\", \n",
    "    values=\"shift_duration_hours\"\n",
    ")"
   ]
  },
  {
   "cell_type": "code",
   "execution_count": 68,
   "id": "c94b2b9e-cd44-4ced-99dd-6434fc323ea8",
   "metadata": {},
   "outputs": [
    {
     "data": {
      "image/png": "[encoded data removed]",
      "text/plain": [
       "<Figure size 800x700 with 2 Axes>"
      ]
     },
     "metadata": {},
     "output_type": "display_data"
    }
   ],
   "source": [
    "plt.figure( figsize = (8,7))\n",
    "sns.heatmap(pivot_table_wholesale, annot=True)\n",
    "plt.title(\"Working hours for wholesale team\")\n",
    "plt.tight_layout()\n",
    "plt.show()"
   ]
  },
  {
   "cell_type": "markdown",
   "id": "1b13b939-c5ab-41f5-a624-611ad22ea871",
   "metadata": {},
   "source": [
    "_Compared to the retail team, the wholesale team works fewer hours per day, although employees do take requests between 7 AM and 11 PM._"
   ]
  },
  {
   "cell_type": "code",
   "execution_count": 69,
   "id": "ee8432d7-7f3d-4203-a4ad-8c1926d5ba5e",
   "metadata": {},
   "outputs": [
    {
     "data": {
      "text/plain": [
       "day_of_week_start_time\n",
       "Monday       2.773472\n",
       "Tuesday      2.340278\n",
       "Wednesday    1.310463\n",
       "Thursday     3.247500\n",
       "Friday       3.823056\n",
       "Saturday     4.775926\n",
       "Sunday       3.064762\n",
       "dtype: float64"
      ]
     },
     "execution_count": 69,
     "metadata": {},
     "output_type": "execute_result"
    }
   ],
   "source": [
    "pivot_table_wholesale[(pivot_table_wholesale > 1)].mean()"
   ]
  },
  {
   "cell_type": "markdown",
   "id": "aeb8706e-2028-4d31-87e3-441779c6c816",
   "metadata": {},
   "source": [
    "_We can see that the average working time per week is different from the standard 7–8 hours._"
   ]
  },
  {
   "cell_type": "markdown",
   "id": "1c7378d3-f0bc-49d0-addd-96b65aae2ba7",
   "metadata": {},
   "source": [
    "_Let’s see how many requests came in during the week for the team._"
   ]
  },
  {
   "cell_type": "code",
   "execution_count": 70,
   "id": "312fdd20-ab48-4d93-991b-b13420bb14b8",
   "metadata": {},
   "outputs": [
    {
     "data": {
      "image/png": "[encoded data removed]",
      "text/plain": [
       "<Figure size 1000x600 with 1 Axes>"
      ]
     },
     "metadata": {},
     "output_type": "display_data"
    }
   ],
   "source": [
    "df_q4_filterd_one_week_wholesale[\"day_of_week_request\"] = df_q4_filterd_one_week_wholesale[\"request_time\"].dt.day_name()\n",
    "df_q4_filterd_one_week_wholesale[\"day_of_week_request\"] = pd.Categorical(\n",
    "                                                                df_q4_filterd_one_week_wholesale[\"day_of_week_request\"],\n",
    "                                                                categories=days_order,\n",
    "                                                                ordered=True\n",
    "                                                            )\n",
    "\n",
    "df_q4_filterd_one_week_wholesale.groupby('day_of_week_request')['id_request'].count()\n",
    "\n",
    "plt.figure(figsize = (10,6))\n",
    "sns.barplot(df_q4_filterd_one_week_wholesale.groupby('day_of_week_request')['id_request'].count())\n",
    "plt.xlabel(\"Day of a week\")\n",
    "plt.ylabel(\"Amount of requests\")\n",
    "plt.title(\"Request frequency [wholesale]\")\n",
    "plt.show()"
   ]
  },
  {
   "cell_type": "markdown",
   "id": "9a6f91bf-e387-4dde-8a02-c92b9081e59b",
   "metadata": {},
   "source": [
    "_We can see that the highest number of orders came on Sunday, while during the week the wholesale team’s workload was half that of retail._"
   ]
  },
  {
   "cell_type": "markdown",
   "id": "9dce13ff-9f63-4a42-a8a1-9ab776d7c268",
   "metadata": {},
   "source": [
    "_Let’s check the ratio of requests processed on the same day versus those delayed by more than a day._"
   ]
  },
  {
   "cell_type": "code",
   "execution_count": 71,
   "id": "9e08eec9-2b54-4069-8451-c6cf725f209b",
   "metadata": {},
   "outputs": [
    {
     "data": {
      "image/png": "[encoded data removed]",
      "text/plain": [
       "<Figure size 1000x600 with 1 Axes>"
      ]
     },
     "metadata": {},
     "output_type": "display_data"
    }
   ],
   "source": [
    "df_q4_filterd_one_week_wholesale[\"same_day_processed\"] = (\n",
    "    df_q4_filterd_one_week_wholesale[\"request_time\"].dt.date == \n",
    "    df_q4_filterd_one_week_wholesale[\"start_time\"].dt.date\n",
    ")\n",
    "\n",
    "summary_by_day_wholesale= df_q4_filterd_one_week_wholesale.groupby(\"day_of_week_request\")[\"same_day_processed\"].value_counts().unstack()\n",
    "\n",
    "days_order = ['Monday', 'Tuesday', 'Wednesday', 'Thursday', 'Friday', 'Saturday', 'Sunday']\n",
    "summary_by_day_wholesale = summary_by_day_wholesale.reindex(days_order)\n",
    "\n",
    "\n",
    "summary_by_day_wholesale.plot(kind='bar', stacked=True, figsize=(10,6))\n",
    "plt.xlabel(\"Day of a week\")\n",
    "plt.ylabel(\"Amount of requests\")\n",
    "plt.title(\"Requests processed in the same day vs late [wholesale]\")\n",
    "plt.legend([\"Later\", \"The same day\"])\n",
    "plt.tight_layout()\n",
    "plt.show()"
   ]
  },
  {
   "cell_type": "markdown",
   "id": "00c9cacc-47de-481c-979f-49137797ac66",
   "metadata": {},
   "source": [
    "_The chart is not representative, as we know the wholesale team completes 73% of requests one day later than when they were received._"
   ]
  },
  {
   "cell_type": "markdown",
   "id": "8e04850c-76e3-4378-b560-422dab7514e9",
   "metadata": {},
   "source": [
    "_Let’s create a weekly chart showing the ratio of requests completed on the same day versus later, relative to the total number of requests, to understand why 73% of the wholesale team’s requests are completed with more than a one-day delay._"
   ]
  },
  {
   "cell_type": "code",
   "execution_count": 72,
   "id": "1a9cf57e-0414-432d-896e-3768d63efd56",
   "metadata": {},
   "outputs": [],
   "source": [
    "df_q4_wholesale = df_q4[df[\"team\"] == \"wholesale\"]"
   ]
  },
  {
   "cell_type": "code",
   "execution_count": 73,
   "id": "338e66ec-80d4-4053-8de8-eff8d30fd420",
   "metadata": {},
   "outputs": [
    {
     "data": {
      "image/png": "[encoded data removed]",
      "text/plain": [
       "<Figure size 1200x600 with 1 Axes>"
      ]
     },
     "metadata": {},
     "output_type": "display_data"
    }
   ],
   "source": [
    "df_q4_wholesale[\"processed_same_day\"] = (\n",
    "    df_q4_wholesale[\"request_time\"].dt.date == df_q4_wholesale[\"start_time\"].dt.date\n",
    ")\n",
    "\n",
    "weekly_processing = df_q4_wholesale.groupby([\"week\", \"processed_same_day\"])[\"id_request\"].count().unstack().fillna(0)\n",
    "weekly_processing.columns = [\"Late\", \"Same day\"]\n",
    "\n",
    "\n",
    "weekly_processing.plot(kind=\"bar\", stacked=False, figsize=(12, 6))\n",
    "plt.title(\"Requests processed in the same day vs late weekly [wholesale]\")\n",
    "plt.xlabel(\"Week\")\n",
    "plt.ylabel(\"Amount of requests\")\n",
    "plt.tight_layout()\n",
    "plt.show()"
   ]
  },
  {
   "cell_type": "markdown",
   "id": "c9e64b46-3539-4e08-98d8-47b10ec36acb",
   "metadata": {},
   "source": [
    "_We can see that with the start of the sales and holiday season, there was record workload on the team. Even though in week 48 the team processed twice as many requests as usual, the number of unprocessed ones was still at a record high._"
   ]
  },
  {
   "cell_type": "markdown",
   "id": "27d1df2b-0c45-42f5-95df-28c50f4cea6f",
   "metadata": {},
   "source": [
    "_The team showed low productivity during peak weeks — even lower than in typical weeks.\n",
    "This happened because the team first processes older requests, combined with high workload, resulting in 73% of requests being completed late._"
   ]
  },
  {
   "cell_type": "markdown",
   "id": "3746a447-5e64-40af-88a7-d3e8c197d5db",
   "metadata": {},
   "source": [
    "_Let’s go back to week 47 and assess the average time to take a request into processing._"
   ]
  },
  {
   "cell_type": "code",
   "execution_count": 74,
   "id": "daee0139-3f86-4d9d-8c2b-8e903158dd00",
   "metadata": {},
   "outputs": [],
   "source": [
    "pivot_avg_delay = df_q4_filterd_one_week_wholesale.pivot_table(\n",
    "    index=\"day_of_week_request\",\n",
    "    columns=\"moderator\",\n",
    "    values=\"time_to_proccess_min\",\n",
    "    aggfunc=\"mean\"\n",
    ")"
   ]
  },
  {
   "cell_type": "code",
   "execution_count": 75,
   "id": "9a4a3390-11d9-4c1a-972a-400b9e09888a",
   "metadata": {},
   "outputs": [
    {
     "data": {
      "image/png": "[encoded data removed]",
      "text/plain": [
       "<Figure size 1200x600 with 2 Axes>"
      ]
     },
     "metadata": {},
     "output_type": "display_data"
    }
   ],
   "source": [
    "plt.figure(figsize=(12, 6))\n",
    "sns.heatmap(pivot_avg_delay, annot=True, fmt=\".1f\", cmap=\"YlOrRd\")\n",
    "\n",
    "plt.title(\"Average delay time [wholesale]\")\n",
    "plt.xlabel(\"Moderator\")\n",
    "plt.ylabel(\"Day of a week\")\n",
    "plt.tight_layout()\n",
    "plt.show()"
   ]
  },
  {
   "cell_type": "code",
   "execution_count": 76,
   "id": "5f96f890-d263-4ecc-9232-242225747a7d",
   "metadata": {},
   "outputs": [
    {
     "name": "stdout",
     "output_type": "stream",
     "text": [
      "day_of_week_request\n",
      "Monday       131.269504\n",
      "Tuesday      116.721520\n",
      "Wednesday    132.036924\n",
      "Thursday     107.810952\n",
      "Friday       136.015320\n",
      "Saturday     337.863418\n",
      "Sunday       509.538650\n",
      "dtype: float64\n"
     ]
    }
   ],
   "source": [
    "pivot_cleaned = pivot_avg_delay.mask(pivot_avg_delay > 1000)\n",
    "avg_delay_by_day_clean = pivot_cleaned.mean(axis=1, skipna=True)\n",
    "print(avg_delay_by_day_clean)"
   ]
  },
  {
   "cell_type": "markdown",
   "id": "8c085a33-daab-460d-a228-a79c5a1cb022",
   "metadata": {},
   "source": [
    "_We can see that the average time to take a request into processing is at least 20 times longer than the desired KPI._"
   ]
  },
  {
   "cell_type": "markdown",
   "id": "ff77c4d9-7ee6-4068-90e5-8c3c0029dd73",
   "metadata": {},
   "source": [
    "_Let’s estimate how many employees are needed for fast response times._"
   ]
  },
  {
   "cell_type": "code",
   "execution_count": 77,
   "id": "fad410d2-bb07-45f5-b533-6c0d7007f5a1",
   "metadata": {},
   "outputs": [
    {
     "data": {
      "text/plain": [
       "98.28571428571429"
      ]
     },
     "execution_count": 77,
     "metadata": {},
     "output_type": "execute_result"
    }
   ],
   "source": [
    "df_q4_filterd_one_week_wholesale.groupby(\"day_of_week_request\")[\"id_request\"].count().mean()"
   ]
  },
  {
   "cell_type": "code",
   "execution_count": 78,
   "id": "7f740be2-3a1c-47f1-be32-0434b6da2978",
   "metadata": {},
   "outputs": [
    {
     "data": {
      "text/plain": [
       "6.142857142857143"
      ]
     },
     "execution_count": 78,
     "metadata": {},
     "output_type": "execute_result"
    }
   ],
   "source": [
    "df_q4_filterd_one_week_wholesale.groupby([\"moderator\" ,\"day_of_week_request\"])[\"id_request\"].count().mean()"
   ]
  },
  {
   "cell_type": "markdown",
   "id": "be735515-ae35-4046-ab5e-91301fd6973a",
   "metadata": {},
   "source": [
    "_We have 98 requests, while one person currently handles an average of 6 requests.\n",
    "According to the desired KPI, an employee should spend 5 minutes (pickup) + 15 minutes (processing) per request.  \n",
    "An acceptable KPI is 5 minutes (pickup) + 45 minutes (processing)._\n",
    "\n",
    "_Given a full workday (8 hours – 1 hour lunch = 7 hours of work), an employee should process:_\n",
    "\n",
    "_KPI target: 7×60 / 20 = 21 requests/day_  \n",
    "_Minimum acceptable: 7×60 / 50 = 8.4 requests/day_\n",
    "\n",
    "_At the minimum acceptable speed, we would need:\n",
    "98 / 8 ≈ 12 employees to process all requests on the same day they arrive._\n",
    "\n",
    "_Currently, the support team is not even meeting the minimum request volume per person._\n",
    "\n",
    "_It’s also important to note that there is no night shift, so all requests arriving before 7 AM technically cannot be handled on time._\n",
    "\n",
    "**Conclusion: hiring new staff is not necessary. Instead, the focus should be shifted so that existing employees work exclusively on request processing — this would make it possible to achieve the desired results (under normal workload).**"
   ]
  },
  {
   "cell_type": "markdown",
   "id": "78b8632e-7c2a-45ca-a149-697cf07c8652",
   "metadata": {},
   "source": [
    "_Next, let’s review how many requests each employee processed during the quarter._"
   ]
  },
  {
   "cell_type": "code",
   "execution_count": 79,
   "id": "6cb74305-9ac2-425e-bfaa-cb04578ad76a",
   "metadata": {},
   "outputs": [
    {
     "data": {
      "text/plain": [
       "Text(0.5, 1.0, 'Requests per moderator [wholesale]')"
      ]
     },
     "execution_count": 79,
     "metadata": {},
     "output_type": "execute_result"
    },
    {
     "data": {
      "image/png": "[encoded data removed]",
      "text/plain": [
       "<Figure size 1000x600 with 1 Axes>"
      ]
     },
     "metadata": {},
     "output_type": "display_data"
    }
   ],
   "source": [
    "df_retail_wholesale_per_moderator = df[df['team'] == 'wholesale'].groupby(\"moderator\")[\"id_request\"].count()\n",
    "\n",
    "fig, ax = plt.subplots(figsize=(10,6))\n",
    "\n",
    "sns.barplot(x = df_retail_wholesale_per_moderator.index, y = df_retail_wholesale_per_moderator.values)\n",
    "\n",
    "plt.xlabel(\"moderator id\")\n",
    "plt.ylabel(\"amount of requests\")\n",
    "plt.title(\"Requests per moderator [wholesale]\")"
   ]
  },
  {
   "cell_type": "code",
   "execution_count": 80,
   "id": "f066d792-6a1d-440f-9daf-20a6643427c8",
   "metadata": {},
   "outputs": [
    {
     "data": {
      "text/plain": [
       "moderator\n",
       "126     2\n",
       "129     1\n",
       "144    61\n",
       "171     1\n",
       "185    25\n",
       "Name: id_request, dtype: int64"
      ]
     },
     "execution_count": 80,
     "metadata": {},
     "output_type": "execute_result"
    }
   ],
   "source": [
    "mask = df_retail_wholesale_per_moderator < 100\n",
    "df_retail_wholesale_per_moderator[mask]"
   ]
  },
  {
   "cell_type": "markdown",
   "id": "f5eec15b-b877-4522-a81c-ed04bedca579",
   "metadata": {},
   "source": [
    "_Special attention should be given to certain moderators who handled a very small number of requests compared to others._"
   ]
  },
  {
   "cell_type": "code",
   "execution_count": 81,
   "id": "506b5a6a-33e6-43d9-90ef-a9753ff3852a",
   "metadata": {},
   "outputs": [
    {
     "data": {
      "text/plain": [
       "moderator\n",
       "188    3746\n",
       "Name: id_request, dtype: int64"
      ]
     },
     "execution_count": 81,
     "metadata": {},
     "output_type": "execute_result"
    }
   ],
   "source": [
    "mask = df_retail_wholesale_per_moderator > 2000\n",
    "df_retail_wholesale_per_moderator[mask]"
   ]
  },
  {
   "cell_type": "markdown",
   "id": "4de4bbc4-e1b8-4214-9d25-a8fb7059159c",
   "metadata": {},
   "source": [
    "**Overall, the wholesale team’s issue is that they do not spend a full workday on support tasks. It is likely that some employees only switch to this type of work a few times a day, which is the main reason for the team’s low performance.**"
   ]
  }
 ],
 "metadata": {
  "kernelspec": {
   "display_name": "Python 3 (ipykernel)",
   "language": "python",
   "name": "python3"
  },
  "language_info": {
   "codemirror_mode": {
    "name": "ipython",
    "version": 3
   },
   "file_extension": ".py",
   "mimetype": "text/x-python",
   "name": "python",
   "nbconvert_exporter": "python",
   "pygments_lexer": "ipython3",
   "version": "3.12.7"
  }
 },
 "nbformat": 4,
 "nbformat_minor": 5
}
